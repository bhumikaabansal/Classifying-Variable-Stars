{
 "cells": [
  {
   "cell_type": "code",
   "execution_count": 1,
   "id": "a1554493",
   "metadata": {},
   "outputs": [],
   "source": [
    "from tqdm.notebook import tqdm\n",
    "import pandas as pd\n",
    "import os"
   ]
  },
  {
   "cell_type": "code",
   "execution_count": null,
   "id": "805f5bbd",
   "metadata": {},
   "outputs": [],
   "source": []
  },
  {
   "cell_type": "code",
   "execution_count": 2,
   "id": "2a285a1d",
   "metadata": {},
   "outputs": [],
   "source": [
    "DATASET_PATH = 'C:\\\\Users\\\\laksh\\\\OneDrive\\\\variable_stars\\\\vari_eclipsing_binary'"
   ]
  },
  {
   "cell_type": "code",
   "execution_count": 3,
   "id": "317f2011",
   "metadata": {},
   "outputs": [],
   "source": [
    "files = os.listdir(DATASET_PATH)"
   ]
  },
  {
   "cell_type": "code",
   "execution_count": 4,
   "id": "22c9682b",
   "metadata": {},
   "outputs": [],
   "source": [
    "df = pd.read_csv('vari_eclipsing_binary.csv', index_col = 0)"
   ]
  },
  {
   "cell_type": "code",
   "execution_count": 5,
   "id": "5fca5c3e",
   "metadata": {},
   "outputs": [],
   "source": [
    "df.sort_values(by = ['best_class_score'], ascending=False, inplace = True)"
   ]
  },
  {
   "cell_type": "code",
   "execution_count": 6,
   "id": "d77af485",
   "metadata": {},
   "outputs": [],
   "source": [
    "sources = df['source_id'].to_list()"
   ]
  },
  {
   "cell_type": "code",
   "execution_count": 7,
   "id": "4eefd3b6",
   "metadata": {},
   "outputs": [
    {
     "data": {
      "application/vnd.jupyter.widget-view+json": {
       "model_id": "c2e8cf98943b44f9a34a01778ccecc7d",
       "version_major": 2,
       "version_minor": 0
      },
      "text/plain": [
       "  0%|          | 0/2184356 [00:00<?, ?it/s]"
      ]
     },
     "metadata": {},
     "output_type": "display_data"
    }
   ],
   "source": [
    "no_of_records = {}\n",
    "df_final = pd.DataFrame(columns = ['source_id', 'band','time' ,'mag','flux'])\n",
    "count = 0\n",
    "for records in tqdm(sources):\n",
    "    i = f'EPOCH_PHOTOMETRY-Gaia DR3 {records}.xml.csv'\n",
    "    if i not in files:\n",
    "        continue\n",
    "    temp = pd.read_csv(DATASET_PATH + '\\\\' + i, index_col=0)\n",
    "    bands = ['G','RP','BP']\n",
    "    for j in bands:\n",
    "        dictionary = {'source_id' : temp['source_id'][0],\n",
    "                  'band' : j,\n",
    "                  'time' : [temp[temp['band'] == j]['time'].to_list()],\n",
    "                  'mag' : [temp[temp['band'] == j]['mag'].to_list()],\n",
    "                  'flux' : [temp[temp['band'] == j]['flux'].to_list()],\n",
    "                  'label' : 'ECP' ## Change this for every class.\n",
    "                 }\n",
    "        df_temp = pd.DataFrame(dictionary)\n",
    "        df_final = pd.concat([df_final,df_temp],axis = 0)\n",
    "    count = count + 1\n",
    "    if count == 100000:\n",
    "            break\n",
    "#     temp = temp.groupby('band')['source_id'].count()\n",
    "#     dictionary = {}\n",
    "#     for j in range(3):\n",
    "#         dictionary[temp.index[j]] = temp.values[j]\n",
    "#     no_of_records[i.split()[2].split('.')[0]] = dictionary"
   ]
  },
  {
   "cell_type": "code",
   "execution_count": 8,
   "id": "48e44666",
   "metadata": {},
   "outputs": [
    {
     "data": {
      "text/html": [
       "<div>\n",
       "<style scoped>\n",
       "    .dataframe tbody tr th:only-of-type {\n",
       "        vertical-align: middle;\n",
       "    }\n",
       "\n",
       "    .dataframe tbody tr th {\n",
       "        vertical-align: top;\n",
       "    }\n",
       "\n",
       "    .dataframe thead th {\n",
       "        text-align: right;\n",
       "    }\n",
       "</style>\n",
       "<table border=\"1\" class=\"dataframe\">\n",
       "  <thead>\n",
       "    <tr style=\"text-align: right;\">\n",
       "      <th></th>\n",
       "      <th>source_id</th>\n",
       "      <th>band</th>\n",
       "      <th>time</th>\n",
       "      <th>mag</th>\n",
       "      <th>flux</th>\n",
       "      <th>label</th>\n",
       "    </tr>\n",
       "  </thead>\n",
       "  <tbody>\n",
       "    <tr>\n",
       "      <th>0</th>\n",
       "      <td>3329740814330728960</td>\n",
       "      <td>G</td>\n",
       "      <td>[1717.5984919100958, 1751.8103861214893, 1751....</td>\n",
       "      <td>[11.858853523017215, 11.855510441538826, 11.86...</td>\n",
       "      <td>[339942.4010962971, 340990.7280857149, 338872....</td>\n",
       "      <td>ECP</td>\n",
       "    </tr>\n",
       "    <tr>\n",
       "      <th>0</th>\n",
       "      <td>3329740814330728960</td>\n",
       "      <td>RP</td>\n",
       "      <td>[1717.598922524479, 1751.810786186847, 1751.98...</td>\n",
       "      <td>[11.570913997936888, 11.578439009406448, 11.58...</td>\n",
       "      <td>[186548.8608056228, 185260.3996961389, 184770....</td>\n",
       "      <td>ECP</td>\n",
       "    </tr>\n",
       "    <tr>\n",
       "      <th>0</th>\n",
       "      <td>3329740814330728960</td>\n",
       "      <td>BP</td>\n",
       "      <td>[1717.5988346597742, 1751.8107012495625, 1751....</td>\n",
       "      <td>[12.018672049381154, 12.017956898596829, 12.01...</td>\n",
       "      <td>[212788.4575883947, 212928.6628796349, 213288....</td>\n",
       "      <td>ECP</td>\n",
       "    </tr>\n",
       "    <tr>\n",
       "      <th>0</th>\n",
       "      <td>4840078845788245248</td>\n",
       "      <td>G</td>\n",
       "      <td>[1722.7153269493738, 1737.5243352221044, 1764....</td>\n",
       "      <td>[10.490939907585668, 10.49030352095453, 10.490...</td>\n",
       "      <td>[1198314.4153825, 1199016.993784527, 1199209.4...</td>\n",
       "      <td>ECP</td>\n",
       "    </tr>\n",
       "    <tr>\n",
       "      <th>0</th>\n",
       "      <td>4840078845788245248</td>\n",
       "      <td>RP</td>\n",
       "      <td>[1722.715722712664, 1737.5247302176767, 1737.5...</td>\n",
       "      <td>[10.069696482147364, 10.06716456545917, 10.066...</td>\n",
       "      <td>[743497.6627252104, 745233.5086758195, 745779....</td>\n",
       "      <td>ECP</td>\n",
       "    </tr>\n",
       "    <tr>\n",
       "      <th>...</th>\n",
       "      <td>...</td>\n",
       "      <td>...</td>\n",
       "      <td>...</td>\n",
       "      <td>...</td>\n",
       "      <td>...</td>\n",
       "      <td>...</td>\n",
       "    </tr>\n",
       "    <tr>\n",
       "      <th>0</th>\n",
       "      <td>3044802715293266816</td>\n",
       "      <td>RP</td>\n",
       "      <td>[1759.241888816696, 1877.235302277662, 1898.73...</td>\n",
       "      <td>[18.203262775888614, 17.848506653433475, 18.18...</td>\n",
       "      <td>[414.81369881867937, 575.1161179170022, 420.29...</td>\n",
       "      <td>ECP</td>\n",
       "    </tr>\n",
       "    <tr>\n",
       "      <th>0</th>\n",
       "      <td>3044802715293266816</td>\n",
       "      <td>BP</td>\n",
       "      <td>[1759.2418005614925, 1877.2352172334383, 1898....</td>\n",
       "      <td>[20.047988005052844, 19.500295552838672, 20.09...</td>\n",
       "      <td>[130.6837789284703, 216.4206341108668, 125.445...</td>\n",
       "      <td>ECP</td>\n",
       "    </tr>\n",
       "    <tr>\n",
       "      <th>0</th>\n",
       "      <td>5237200283729150848</td>\n",
       "      <td>G</td>\n",
       "      <td>[1697.9417337058992, 1734.38152930999, 1775.99...</td>\n",
       "      <td>[18.331056510888075, 18.3134367083369, 18.5295...</td>\n",
       "      <td>[876.0404154403792, 890.3731674315477, 729.647...</td>\n",
       "      <td>ECP</td>\n",
       "    </tr>\n",
       "    <tr>\n",
       "      <th>0</th>\n",
       "      <td>5237200283729150848</td>\n",
       "      <td>RP</td>\n",
       "      <td>[1697.942134448224, 1734.3819328258533, 1776.0...</td>\n",
       "      <td>[17.73639987883776, 17.71455819324693, 17.8495...</td>\n",
       "      <td>[637.6733233316733, 650.6312566389349, 574.544...</td>\n",
       "      <td>ECP</td>\n",
       "    </tr>\n",
       "    <tr>\n",
       "      <th>0</th>\n",
       "      <td>5237200283729150848</td>\n",
       "      <td>BP</td>\n",
       "      <td>[1697.9420486506078, 1734.3818435638043, 1776....</td>\n",
       "      <td>[19.010127544582875, 18.91012331803962, 18.969...</td>\n",
       "      <td>[339.91150818480696, 372.70700821015066, 352.9...</td>\n",
       "      <td>ECP</td>\n",
       "    </tr>\n",
       "  </tbody>\n",
       "</table>\n",
       "<p>300000 rows × 6 columns</p>\n",
       "</div>"
      ],
      "text/plain": [
       "              source_id band  \\\n",
       "0   3329740814330728960    G   \n",
       "0   3329740814330728960   RP   \n",
       "0   3329740814330728960   BP   \n",
       "0   4840078845788245248    G   \n",
       "0   4840078845788245248   RP   \n",
       "..                  ...  ...   \n",
       "0   3044802715293266816   RP   \n",
       "0   3044802715293266816   BP   \n",
       "0   5237200283729150848    G   \n",
       "0   5237200283729150848   RP   \n",
       "0   5237200283729150848   BP   \n",
       "\n",
       "                                                 time  \\\n",
       "0   [1717.5984919100958, 1751.8103861214893, 1751....   \n",
       "0   [1717.598922524479, 1751.810786186847, 1751.98...   \n",
       "0   [1717.5988346597742, 1751.8107012495625, 1751....   \n",
       "0   [1722.7153269493738, 1737.5243352221044, 1764....   \n",
       "0   [1722.715722712664, 1737.5247302176767, 1737.5...   \n",
       "..                                                ...   \n",
       "0   [1759.241888816696, 1877.235302277662, 1898.73...   \n",
       "0   [1759.2418005614925, 1877.2352172334383, 1898....   \n",
       "0   [1697.9417337058992, 1734.38152930999, 1775.99...   \n",
       "0   [1697.942134448224, 1734.3819328258533, 1776.0...   \n",
       "0   [1697.9420486506078, 1734.3818435638043, 1776....   \n",
       "\n",
       "                                                  mag  \\\n",
       "0   [11.858853523017215, 11.855510441538826, 11.86...   \n",
       "0   [11.570913997936888, 11.578439009406448, 11.58...   \n",
       "0   [12.018672049381154, 12.017956898596829, 12.01...   \n",
       "0   [10.490939907585668, 10.49030352095453, 10.490...   \n",
       "0   [10.069696482147364, 10.06716456545917, 10.066...   \n",
       "..                                                ...   \n",
       "0   [18.203262775888614, 17.848506653433475, 18.18...   \n",
       "0   [20.047988005052844, 19.500295552838672, 20.09...   \n",
       "0   [18.331056510888075, 18.3134367083369, 18.5295...   \n",
       "0   [17.73639987883776, 17.71455819324693, 17.8495...   \n",
       "0   [19.010127544582875, 18.91012331803962, 18.969...   \n",
       "\n",
       "                                                 flux label  \n",
       "0   [339942.4010962971, 340990.7280857149, 338872....   ECP  \n",
       "0   [186548.8608056228, 185260.3996961389, 184770....   ECP  \n",
       "0   [212788.4575883947, 212928.6628796349, 213288....   ECP  \n",
       "0   [1198314.4153825, 1199016.993784527, 1199209.4...   ECP  \n",
       "0   [743497.6627252104, 745233.5086758195, 745779....   ECP  \n",
       "..                                                ...   ...  \n",
       "0   [414.81369881867937, 575.1161179170022, 420.29...   ECP  \n",
       "0   [130.6837789284703, 216.4206341108668, 125.445...   ECP  \n",
       "0   [876.0404154403792, 890.3731674315477, 729.647...   ECP  \n",
       "0   [637.6733233316733, 650.6312566389349, 574.544...   ECP  \n",
       "0   [339.91150818480696, 372.70700821015066, 352.9...   ECP  \n",
       "\n",
       "[300000 rows x 6 columns]"
      ]
     },
     "execution_count": 8,
     "metadata": {},
     "output_type": "execute_result"
    }
   ],
   "source": [
    "df_final"
   ]
  },
  {
   "cell_type": "code",
   "execution_count": 9,
   "id": "2027d76c",
   "metadata": {},
   "outputs": [
    {
     "data": {
      "text/plain": [
       "100000.0"
      ]
     },
     "execution_count": 9,
     "metadata": {},
     "output_type": "execute_result"
    }
   ],
   "source": [
    "df_final.shape[0]/3"
   ]
  },
  {
   "cell_type": "code",
   "execution_count": 10,
   "id": "c3f66aa7",
   "metadata": {},
   "outputs": [],
   "source": [
    "df_final.to_csv('final_vari_eclipsing_binary.csv')"
   ]
  },
  {
   "cell_type": "code",
   "execution_count": null,
   "id": "c7e85060",
   "metadata": {},
   "outputs": [],
   "source": []
  }
 ],
 "metadata": {
  "kernelspec": {
   "display_name": "Python 3 (ipykernel)",
   "language": "python",
   "name": "python3"
  },
  "language_info": {
   "codemirror_mode": {
    "name": "ipython",
    "version": 3
   },
   "file_extension": ".py",
   "mimetype": "text/x-python",
   "name": "python",
   "nbconvert_exporter": "python",
   "pygments_lexer": "ipython3",
   "version": "3.9.7"
  }
 },
 "nbformat": 4,
 "nbformat_minor": 5
}
