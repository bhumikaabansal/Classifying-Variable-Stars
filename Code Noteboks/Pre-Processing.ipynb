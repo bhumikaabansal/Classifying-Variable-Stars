{
 "cells": [
  {
   "cell_type": "code",
   "execution_count": 1,
   "id": "413845a5-51c8-4b31-b7d2-143afa593fec",
   "metadata": {},
   "outputs": [],
   "source": [
    "import pandas as pd\n",
    "import numpy as np"
   ]
  },
  {
   "cell_type": "code",
   "execution_count": 2,
   "id": "d1a5a26f-458c-4bb4-8b0d-41287ba6a961",
   "metadata": {},
   "outputs": [],
   "source": [
    "df_lpv = pd.read_csv(r'Mini Dataset/mini_vari_long_period_variable.csv')\n",
    "df_cep = pd.read_csv(r'Mini Dataset/mini_vari_cepheid.csv')\n",
    "df_ecl = pd.read_csv(r'Mini Dataset/mini_vari_eclipsing_binary.csv')\n",
    "df_rr = pd.read_csv(r'Mini Dataset/mini_vari_rr_lyrae.csv')"
   ]
  },
  {
   "cell_type": "code",
   "execution_count": 3,
   "id": "05e64cd4-6099-42cd-b099-bb62992a0e95",
   "metadata": {},
   "outputs": [],
   "source": [
    "def convert_to_list(string):\n",
    "    return [float(i) if i != '' else 0 for i in string.split(', ')]"
   ]
  },
  {
   "cell_type": "code",
   "execution_count": 4,
   "id": "e7ebb673-9c66-4937-b31c-ffa8467b390f",
   "metadata": {},
   "outputs": [],
   "source": [
    "def process_dataset(df):\n",
    "    columns = ['time', 'mag', 'flux']\n",
    "    for i in columns:\n",
    "        df[i] = df[i].apply(lambda x: x[1:-1])\n",
    "        df = df[~df[i].isnull()]\n",
    "        df[i] = df[i].apply(convert_to_list)\n",
    "    return df"
   ]
  },
  {
   "cell_type": "code",
   "execution_count": 5,
   "id": "3456f6de-6d17-4dd2-8def-3f49adc97d60",
   "metadata": {},
   "outputs": [],
   "source": [
    "df_lpv = process_dataset(df_lpv)\n",
    "df_cep = process_dataset(df_cep)\n",
    "df_ecl = process_dataset(df_ecl)\n",
    "df_rr = process_dataset(df_rr)"
   ]
  }
 ],
 "metadata": {
  "kernelspec": {
   "display_name": "Python 3 (ipykernel)",
   "language": "python",
   "name": "python3"
  },
  "language_info": {
   "codemirror_mode": {
    "name": "ipython",
    "version": 3
   },
   "file_extension": ".py",
   "mimetype": "text/x-python",
   "name": "python",
   "nbconvert_exporter": "python",
   "pygments_lexer": "ipython3",
   "version": "3.9.7"
  }
 },
 "nbformat": 4,
 "nbformat_minor": 5
}
