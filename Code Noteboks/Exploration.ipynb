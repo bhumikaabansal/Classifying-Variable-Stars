{
 "cells": [
  {
   "cell_type": "code",
   "execution_count": 45,
   "id": "e218ff48",
   "metadata": {},
   "outputs": [],
   "source": [
    "import pandas as pd"
   ]
  },
  {
   "cell_type": "code",
   "execution_count": 46,
   "id": "88544db4",
   "metadata": {},
   "outputs": [],
   "source": [
    "df = pd.read_csv('vari_eclipsing_binary.csv', index_col = 0)"
   ]
  },
  {
   "cell_type": "code",
   "execution_count": 47,
   "id": "64f62637",
   "metadata": {},
   "outputs": [
    {
     "data": {
      "text/html": [
       "<div>\n",
       "<style scoped>\n",
       "    .dataframe tbody tr th:only-of-type {\n",
       "        vertical-align: middle;\n",
       "    }\n",
       "\n",
       "    .dataframe tbody tr th {\n",
       "        vertical-align: top;\n",
       "    }\n",
       "\n",
       "    .dataframe thead th {\n",
       "        text-align: right;\n",
       "    }\n",
       "</style>\n",
       "<table border=\"1\" class=\"dataframe\">\n",
       "  <thead>\n",
       "    <tr style=\"text-align: right;\">\n",
       "      <th></th>\n",
       "      <th>solution_id</th>\n",
       "      <th>source_id</th>\n",
       "      <th>classifier_name</th>\n",
       "      <th>best_class_name</th>\n",
       "      <th>best_class_score</th>\n",
       "    </tr>\n",
       "  </thead>\n",
       "  <tbody>\n",
       "    <tr>\n",
       "      <th>0</th>\n",
       "      <td>375316653866487564</td>\n",
       "      <td>5902284490717516928</td>\n",
       "      <td>nTransits:5+</td>\n",
       "      <td>ECL</td>\n",
       "      <td>0.450999</td>\n",
       "    </tr>\n",
       "    <tr>\n",
       "      <th>1</th>\n",
       "      <td>375316653866487564</td>\n",
       "      <td>5902284731235703680</td>\n",
       "      <td>nTransits:5+</td>\n",
       "      <td>ECL</td>\n",
       "      <td>0.834064</td>\n",
       "    </tr>\n",
       "    <tr>\n",
       "      <th>2</th>\n",
       "      <td>375316653866487564</td>\n",
       "      <td>5902284967451738240</td>\n",
       "      <td>nTransits:5+</td>\n",
       "      <td>ECL</td>\n",
       "      <td>0.128291</td>\n",
       "    </tr>\n",
       "    <tr>\n",
       "      <th>3</th>\n",
       "      <td>375316653866487564</td>\n",
       "      <td>5902287342576109952</td>\n",
       "      <td>nTransits:5+</td>\n",
       "      <td>ECL</td>\n",
       "      <td>0.921948</td>\n",
       "    </tr>\n",
       "    <tr>\n",
       "      <th>4</th>\n",
       "      <td>375316653866487564</td>\n",
       "      <td>5902288369065828736</td>\n",
       "      <td>nTransits:5+</td>\n",
       "      <td>ECL</td>\n",
       "      <td>0.884637</td>\n",
       "    </tr>\n",
       "  </tbody>\n",
       "</table>\n",
       "</div>"
      ],
      "text/plain": [
       "          solution_id            source_id classifier_name best_class_name  \\\n",
       "0  375316653866487564  5902284490717516928    nTransits:5+             ECL   \n",
       "1  375316653866487564  5902284731235703680    nTransits:5+             ECL   \n",
       "2  375316653866487564  5902284967451738240    nTransits:5+             ECL   \n",
       "3  375316653866487564  5902287342576109952    nTransits:5+             ECL   \n",
       "4  375316653866487564  5902288369065828736    nTransits:5+             ECL   \n",
       "\n",
       "   best_class_score  \n",
       "0          0.450999  \n",
       "1          0.834064  \n",
       "2          0.128291  \n",
       "3          0.921948  \n",
       "4          0.884637  "
      ]
     },
     "execution_count": 47,
     "metadata": {},
     "output_type": "execute_result"
    }
   ],
   "source": [
    "df.head()"
   ]
  },
  {
   "cell_type": "code",
   "execution_count": 48,
   "id": "ccc1de8b",
   "metadata": {},
   "outputs": [
    {
     "data": {
      "text/plain": [
       "(2184356, 5)"
      ]
     },
     "execution_count": 48,
     "metadata": {},
     "output_type": "execute_result"
    }
   ],
   "source": [
    "df.shape"
   ]
  },
  {
   "cell_type": "code",
   "execution_count": 49,
   "id": "c4d03e4b",
   "metadata": {},
   "outputs": [],
   "source": [
    "import matplotlib.pyplot as plt"
   ]
  },
  {
   "cell_type": "code",
   "execution_count": 50,
   "id": "43937a94",
   "metadata": {},
   "outputs": [
    {
     "data": {
      "text/plain": [
       "(array([140543., 203293., 206089., 192156., 198013., 224012., 229859.,\n",
       "        254691., 299291., 236409.]),\n",
       " array([1.14707750e-04, 1.00098594e-01, 2.00082480e-01, 3.00066366e-01,\n",
       "        4.00050253e-01, 5.00034139e-01, 6.00018025e-01, 7.00001911e-01,\n",
       "        7.99985798e-01, 8.99969684e-01, 9.99953570e-01]),\n",
       " <BarContainer object of 10 artists>)"
      ]
     },
     "execution_count": 50,
     "metadata": {},
     "output_type": "execute_result"
    },
    {
     "data": {
      "image/png": "[encoded data removed]",
      "text/plain": [
       "<Figure size 432x288 with 1 Axes>"
      ]
     },
     "metadata": {
      "needs_background": "light"
     },
     "output_type": "display_data"
    }
   ],
   "source": [
    "plt.hist(df['best_class_score'])"
   ]
  },
  {
   "cell_type": "code",
   "execution_count": 51,
   "id": "4b0c3c45",
   "metadata": {},
   "outputs": [
    {
     "name": "stdout",
     "output_type": "stream",
     "text": [
      "535660\n"
     ]
    }
   ],
   "source": [
    "count = df[df['best_class_score'] > 0.8]\n",
    "print(count.shape[0])"
   ]
  },
  {
   "cell_type": "code",
   "execution_count": 52,
   "id": "67c16873",
   "metadata": {},
   "outputs": [
    {
     "data": {
      "text/html": [
       "<div>\n",
       "<style scoped>\n",
       "    .dataframe tbody tr th:only-of-type {\n",
       "        vertical-align: middle;\n",
       "    }\n",
       "\n",
       "    .dataframe tbody tr th {\n",
       "        vertical-align: top;\n",
       "    }\n",
       "\n",
       "    .dataframe thead th {\n",
       "        text-align: right;\n",
       "    }\n",
       "</style>\n",
       "<table border=\"1\" class=\"dataframe\">\n",
       "  <thead>\n",
       "    <tr style=\"text-align: right;\">\n",
       "      <th></th>\n",
       "      <th>solution_id</th>\n",
       "      <th>source_id</th>\n",
       "      <th>best_class_score</th>\n",
       "    </tr>\n",
       "  </thead>\n",
       "  <tbody>\n",
       "    <tr>\n",
       "      <th>count</th>\n",
       "      <td>2.184356e+06</td>\n",
       "      <td>2.184356e+06</td>\n",
       "      <td>2.184356e+06</td>\n",
       "    </tr>\n",
       "    <tr>\n",
       "      <th>mean</th>\n",
       "      <td>3.753167e+17</td>\n",
       "      <td>4.235645e+18</td>\n",
       "      <td>5.437974e-01</td>\n",
       "    </tr>\n",
       "    <tr>\n",
       "      <th>std</th>\n",
       "      <td>3.776001e+03</td>\n",
       "      <td>1.674690e+18</td>\n",
       "      <td>2.807503e-01</td>\n",
       "    </tr>\n",
       "    <tr>\n",
       "      <th>min</th>\n",
       "      <td>3.753167e+17</td>\n",
       "      <td>4.662616e+13</td>\n",
       "      <td>1.147077e-04</td>\n",
       "    </tr>\n",
       "    <tr>\n",
       "      <th>25%</th>\n",
       "      <td>3.753167e+17</td>\n",
       "      <td>3.370059e+18</td>\n",
       "      <td>2.981656e-01</td>\n",
       "    </tr>\n",
       "    <tr>\n",
       "      <th>50%</th>\n",
       "      <td>3.753167e+17</td>\n",
       "      <td>4.253077e+18</td>\n",
       "      <td>5.681072e-01</td>\n",
       "    </tr>\n",
       "    <tr>\n",
       "      <th>75%</th>\n",
       "      <td>3.753167e+17</td>\n",
       "      <td>5.833826e+18</td>\n",
       "      <td>7.961366e-01</td>\n",
       "    </tr>\n",
       "    <tr>\n",
       "      <th>max</th>\n",
       "      <td>3.753167e+17</td>\n",
       "      <td>6.917528e+18</td>\n",
       "      <td>9.999536e-01</td>\n",
       "    </tr>\n",
       "  </tbody>\n",
       "</table>\n",
       "</div>"
      ],
      "text/plain": [
       "        solution_id     source_id  best_class_score\n",
       "count  2.184356e+06  2.184356e+06      2.184356e+06\n",
       "mean   3.753167e+17  4.235645e+18      5.437974e-01\n",
       "std    3.776001e+03  1.674690e+18      2.807503e-01\n",
       "min    3.753167e+17  4.662616e+13      1.147077e-04\n",
       "25%    3.753167e+17  3.370059e+18      2.981656e-01\n",
       "50%    3.753167e+17  4.253077e+18      5.681072e-01\n",
       "75%    3.753167e+17  5.833826e+18      7.961366e-01\n",
       "max    3.753167e+17  6.917528e+18      9.999536e-01"
      ]
     },
     "execution_count": 52,
     "metadata": {},
     "output_type": "execute_result"
    }
   ],
   "source": [
    "df.describe()"
   ]
  },
  {
   "cell_type": "code",
   "execution_count": 53,
   "id": "3b1952cd",
   "metadata": {},
   "outputs": [
    {
     "data": {
      "text/plain": [
       "(array([25264., 39547., 27410., 21496., 24813., 26192., 29281., 33261.,\n",
       "        39696., 30818.]),\n",
       " array([8.16086700e-06, 9.99939348e-02, 1.99979709e-01, 2.99965483e-01,\n",
       "        3.99951257e-01, 4.99937030e-01, 5.99922804e-01, 6.99908578e-01,\n",
       "        7.99894352e-01, 8.99880126e-01, 9.99865900e-01]),\n",
       " <BarContainer object of 10 artists>)"
      ]
     },
     "execution_count": 53,
     "metadata": {},
     "output_type": "execute_result"
    },
    {
     "data": {
      "image/png": "[encoded data removed]",
      "text/plain": [
       "<Figure size 432x288 with 1 Axes>"
      ]
     },
     "metadata": {
      "needs_background": "light"
     },
     "output_type": "display_data"
    }
   ],
   "source": [
    "df = pd.read_csv('vari_rrlyrae_class_score.csv', index_col = 0)\n",
    "plt.hist(df['best_class_score'])"
   ]
  },
  {
   "cell_type": "code",
   "execution_count": 54,
   "id": "8fa448a8",
   "metadata": {},
   "outputs": [
    {
     "name": "stdout",
     "output_type": "stream",
     "text": [
      "70469\n"
     ]
    }
   ],
   "source": [
    "count = df[df['best_class_score'] > 0.8]\n",
    "print(count.shape[0])"
   ]
  },
  {
   "cell_type": "code",
   "execution_count": 55,
   "id": "78418d3d",
   "metadata": {},
   "outputs": [
    {
     "data": {
      "text/html": [
       "<div>\n",
       "<style scoped>\n",
       "    .dataframe tbody tr th:only-of-type {\n",
       "        vertical-align: middle;\n",
       "    }\n",
       "\n",
       "    .dataframe tbody tr th {\n",
       "        vertical-align: top;\n",
       "    }\n",
       "\n",
       "    .dataframe thead th {\n",
       "        text-align: right;\n",
       "    }\n",
       "</style>\n",
       "<table border=\"1\" class=\"dataframe\">\n",
       "  <thead>\n",
       "    <tr style=\"text-align: right;\">\n",
       "      <th></th>\n",
       "      <th>solution_id</th>\n",
       "      <th>source_id</th>\n",
       "      <th>best_class_score</th>\n",
       "    </tr>\n",
       "  </thead>\n",
       "  <tbody>\n",
       "    <tr>\n",
       "      <th>count</th>\n",
       "      <td>2.977780e+05</td>\n",
       "      <td>2.977780e+05</td>\n",
       "      <td>297778.000000</td>\n",
       "    </tr>\n",
       "    <tr>\n",
       "      <th>mean</th>\n",
       "      <td>3.753167e+17</td>\n",
       "      <td>4.585860e+18</td>\n",
       "      <td>0.517434</td>\n",
       "    </tr>\n",
       "    <tr>\n",
       "      <th>std</th>\n",
       "      <td>3.776006e+03</td>\n",
       "      <td>1.420793e+18</td>\n",
       "      <td>0.295290</td>\n",
       "    </tr>\n",
       "    <tr>\n",
       "      <th>min</th>\n",
       "      <td>3.753167e+17</td>\n",
       "      <td>1.775711e+14</td>\n",
       "      <td>0.000008</td>\n",
       "    </tr>\n",
       "    <tr>\n",
       "      <th>25%</th>\n",
       "      <td>3.753167e+17</td>\n",
       "      <td>4.061273e+18</td>\n",
       "      <td>0.230306</td>\n",
       "    </tr>\n",
       "    <tr>\n",
       "      <th>50%</th>\n",
       "      <td>3.753167e+17</td>\n",
       "      <td>4.648828e+18</td>\n",
       "      <td>0.540307</td>\n",
       "    </tr>\n",
       "    <tr>\n",
       "      <th>75%</th>\n",
       "      <td>3.753167e+17</td>\n",
       "      <td>5.881068e+18</td>\n",
       "      <td>0.788485</td>\n",
       "    </tr>\n",
       "    <tr>\n",
       "      <th>max</th>\n",
       "      <td>3.753167e+17</td>\n",
       "      <td>6.917504e+18</td>\n",
       "      <td>0.999866</td>\n",
       "    </tr>\n",
       "  </tbody>\n",
       "</table>\n",
       "</div>"
      ],
      "text/plain": [
       "        solution_id     source_id  best_class_score\n",
       "count  2.977780e+05  2.977780e+05     297778.000000\n",
       "mean   3.753167e+17  4.585860e+18          0.517434\n",
       "std    3.776006e+03  1.420793e+18          0.295290\n",
       "min    3.753167e+17  1.775711e+14          0.000008\n",
       "25%    3.753167e+17  4.061273e+18          0.230306\n",
       "50%    3.753167e+17  4.648828e+18          0.540307\n",
       "75%    3.753167e+17  5.881068e+18          0.788485\n",
       "max    3.753167e+17  6.917504e+18          0.999866"
      ]
     },
     "execution_count": 55,
     "metadata": {},
     "output_type": "execute_result"
    }
   ],
   "source": [
    "df.describe()"
   ]
  },
  {
   "cell_type": "code",
   "execution_count": 56,
   "id": "585ccdde",
   "metadata": {},
   "outputs": [
    {
     "data": {
      "text/plain": [
       "(array([2175., 1722., 1392., 1330., 1477., 1616., 1856., 1942., 1710.,\n",
       "         921.]),\n",
       " array([6.37551800e-05, 9.96038657e-02, 1.99143976e-01, 2.98684087e-01,\n",
       "        3.98224197e-01, 4.97764308e-01, 5.97304418e-01, 6.96844529e-01,\n",
       "        7.96384639e-01, 8.95924750e-01, 9.95464860e-01]),\n",
       " <BarContainer object of 10 artists>)"
      ]
     },
     "execution_count": 56,
     "metadata": {},
     "output_type": "execute_result"
    },
    {
     "data": {
      "image/png": "[encoded data removed]",
      "text/plain": [
       "<Figure size 432x288 with 1 Axes>"
      ]
     },
     "metadata": {
      "needs_background": "light"
     },
     "output_type": "display_data"
    }
   ],
   "source": [
    "df = pd.read_csv('vari_cepheid_class_score.csv', index_col = 0)\n",
    "plt.hist(df['best_class_score'])"
   ]
  },
  {
   "cell_type": "code",
   "execution_count": 57,
   "id": "3564a38a",
   "metadata": {},
   "outputs": [
    {
     "name": "stdout",
     "output_type": "stream",
     "text": [
      "2569\n"
     ]
    }
   ],
   "source": [
    "count = df[df['best_class_score'] > 0.8]\n",
    "print(count.shape[0])"
   ]
  },
  {
   "cell_type": "code",
   "execution_count": 58,
   "id": "72d38726",
   "metadata": {},
   "outputs": [
    {
     "data": {
      "text/html": [
       "<div>\n",
       "<style scoped>\n",
       "    .dataframe tbody tr th:only-of-type {\n",
       "        vertical-align: middle;\n",
       "    }\n",
       "\n",
       "    .dataframe tbody tr th {\n",
       "        vertical-align: top;\n",
       "    }\n",
       "\n",
       "    .dataframe thead th {\n",
       "        text-align: right;\n",
       "    }\n",
       "</style>\n",
       "<table border=\"1\" class=\"dataframe\">\n",
       "  <thead>\n",
       "    <tr style=\"text-align: right;\">\n",
       "      <th></th>\n",
       "      <th>solution_id</th>\n",
       "      <th>source_id</th>\n",
       "      <th>best_class_score</th>\n",
       "    </tr>\n",
       "  </thead>\n",
       "  <tbody>\n",
       "    <tr>\n",
       "      <th>count</th>\n",
       "      <td>1.614100e+04</td>\n",
       "      <td>1.614100e+04</td>\n",
       "      <td>16141.000000</td>\n",
       "    </tr>\n",
       "    <tr>\n",
       "      <th>mean</th>\n",
       "      <td>3.753167e+17</td>\n",
       "      <td>4.327148e+18</td>\n",
       "      <td>0.476011</td>\n",
       "    </tr>\n",
       "    <tr>\n",
       "      <th>std</th>\n",
       "      <td>3.776117e+03</td>\n",
       "      <td>1.291829e+18</td>\n",
       "      <td>0.285212</td>\n",
       "    </tr>\n",
       "    <tr>\n",
       "      <th>min</th>\n",
       "      <td>3.753167e+17</td>\n",
       "      <td>6.125971e+16</td>\n",
       "      <td>0.000064</td>\n",
       "    </tr>\n",
       "    <tr>\n",
       "      <th>25%</th>\n",
       "      <td>3.753167e+17</td>\n",
       "      <td>4.507672e+18</td>\n",
       "      <td>0.208865</td>\n",
       "    </tr>\n",
       "    <tr>\n",
       "      <th>50%</th>\n",
       "      <td>3.753167e+17</td>\n",
       "      <td>4.661295e+18</td>\n",
       "      <td>0.496283</td>\n",
       "    </tr>\n",
       "    <tr>\n",
       "      <th>75%</th>\n",
       "      <td>3.753167e+17</td>\n",
       "      <td>4.688850e+18</td>\n",
       "      <td>0.723802</td>\n",
       "    </tr>\n",
       "    <tr>\n",
       "      <th>max</th>\n",
       "      <td>3.753167e+17</td>\n",
       "      <td>6.899899e+18</td>\n",
       "      <td>0.995465</td>\n",
       "    </tr>\n",
       "  </tbody>\n",
       "</table>\n",
       "</div>"
      ],
      "text/plain": [
       "        solution_id     source_id  best_class_score\n",
       "count  1.614100e+04  1.614100e+04      16141.000000\n",
       "mean   3.753167e+17  4.327148e+18          0.476011\n",
       "std    3.776117e+03  1.291829e+18          0.285212\n",
       "min    3.753167e+17  6.125971e+16          0.000064\n",
       "25%    3.753167e+17  4.507672e+18          0.208865\n",
       "50%    3.753167e+17  4.661295e+18          0.496283\n",
       "75%    3.753167e+17  4.688850e+18          0.723802\n",
       "max    3.753167e+17  6.899899e+18          0.995465"
      ]
     },
     "execution_count": 58,
     "metadata": {},
     "output_type": "execute_result"
    }
   ],
   "source": [
    "df.describe()"
   ]
  },
  {
   "cell_type": "code",
   "execution_count": 59,
   "id": "d60bdd30",
   "metadata": {},
   "outputs": [
    {
     "data": {
      "text/plain": [
       "(array([121185., 189954., 187633., 183915., 201335., 237080., 229863.,\n",
       "        265050., 391666., 318094.]),\n",
       " array([0.00283229, 0.10251034, 0.20218838, 0.30186643, 0.40154448,\n",
       "        0.50122252, 0.60090057, 0.70057861, 0.80025666, 0.8999347 ,\n",
       "        0.99961275]),\n",
       " <BarContainer object of 10 artists>)"
      ]
     },
     "execution_count": 59,
     "metadata": {},
     "output_type": "execute_result"
    },
    {
     "data": {
      "image/png": "[encoded data removed]",
      "text/plain": [
       "<Figure size 432x288 with 1 Axes>"
      ]
     },
     "metadata": {
      "needs_background": "light"
     },
     "output_type": "display_data"
    }
   ],
   "source": [
    "df = pd.read_csv('vari_long_period_variable_class_score.csv', index_col = 0)\n",
    "plt.hist(df['best_class_score'])"
   ]
  },
  {
   "cell_type": "code",
   "execution_count": 60,
   "id": "b07ce946",
   "metadata": {},
   "outputs": [
    {
     "name": "stdout",
     "output_type": "stream",
     "text": [
      "710604\n"
     ]
    }
   ],
   "source": [
    "count = df[df['best_class_score'] > 0.8]\n",
    "print(count.shape[0])"
   ]
  },
  {
   "cell_type": "code",
   "execution_count": 61,
   "id": "bb231a02",
   "metadata": {},
   "outputs": [
    {
     "data": {
      "text/html": [
       "<div>\n",
       "<style scoped>\n",
       "    .dataframe tbody tr th:only-of-type {\n",
       "        vertical-align: middle;\n",
       "    }\n",
       "\n",
       "    .dataframe tbody tr th {\n",
       "        vertical-align: top;\n",
       "    }\n",
       "\n",
       "    .dataframe thead th {\n",
       "        text-align: right;\n",
       "    }\n",
       "</style>\n",
       "<table border=\"1\" class=\"dataframe\">\n",
       "  <thead>\n",
       "    <tr style=\"text-align: right;\">\n",
       "      <th></th>\n",
       "      <th>solution_id</th>\n",
       "      <th>source_id</th>\n",
       "      <th>best_class_score</th>\n",
       "    </tr>\n",
       "  </thead>\n",
       "  <tbody>\n",
       "    <tr>\n",
       "      <th>count</th>\n",
       "      <td>2.325775e+06</td>\n",
       "      <td>2.325775e+06</td>\n",
       "      <td>2.325775e+06</td>\n",
       "    </tr>\n",
       "    <tr>\n",
       "      <th>mean</th>\n",
       "      <td>3.753167e+17</td>\n",
       "      <td>4.532220e+18</td>\n",
       "      <td>5.817592e-01</td>\n",
       "    </tr>\n",
       "    <tr>\n",
       "      <th>std</th>\n",
       "      <td>3.776001e+03</td>\n",
       "      <td>1.146661e+18</td>\n",
       "      <td>2.792850e-01</td>\n",
       "    </tr>\n",
       "    <tr>\n",
       "      <th>min</th>\n",
       "      <td>3.753167e+17</td>\n",
       "      <td>1.548636e+14</td>\n",
       "      <td>2.832293e-03</td>\n",
       "    </tr>\n",
       "    <tr>\n",
       "      <th>25%</th>\n",
       "      <td>3.753167e+17</td>\n",
       "      <td>4.059483e+18</td>\n",
       "      <td>3.464343e-01</td>\n",
       "    </tr>\n",
       "    <tr>\n",
       "      <th>50%</th>\n",
       "      <td>3.753167e+17</td>\n",
       "      <td>4.143355e+18</td>\n",
       "      <td>6.186016e-01</td>\n",
       "    </tr>\n",
       "    <tr>\n",
       "      <th>75%</th>\n",
       "      <td>3.753167e+17</td>\n",
       "      <td>5.865037e+18</td>\n",
       "      <td>8.359140e-01</td>\n",
       "    </tr>\n",
       "    <tr>\n",
       "      <th>max</th>\n",
       "      <td>3.753167e+17</td>\n",
       "      <td>6.917399e+18</td>\n",
       "      <td>9.996128e-01</td>\n",
       "    </tr>\n",
       "  </tbody>\n",
       "</table>\n",
       "</div>"
      ],
      "text/plain": [
       "        solution_id     source_id  best_class_score\n",
       "count  2.325775e+06  2.325775e+06      2.325775e+06\n",
       "mean   3.753167e+17  4.532220e+18      5.817592e-01\n",
       "std    3.776001e+03  1.146661e+18      2.792850e-01\n",
       "min    3.753167e+17  1.548636e+14      2.832293e-03\n",
       "25%    3.753167e+17  4.059483e+18      3.464343e-01\n",
       "50%    3.753167e+17  4.143355e+18      6.186016e-01\n",
       "75%    3.753167e+17  5.865037e+18      8.359140e-01\n",
       "max    3.753167e+17  6.917399e+18      9.996128e-01"
      ]
     },
     "execution_count": 61,
     "metadata": {},
     "output_type": "execute_result"
    }
   ],
   "source": [
    "df.describe()"
   ]
  },
  {
   "cell_type": "code",
   "execution_count": null,
   "id": "cf12abf2",
   "metadata": {},
   "outputs": [],
   "source": []
  }
 ],
 "metadata": {
  "kernelspec": {
   "display_name": "Python 3 (ipykernel)",
   "language": "python",
   "name": "python3"
  },
  "language_info": {
   "codemirror_mode": {
    "name": "ipython",
    "version": 3
   },
   "file_extension": ".py",
   "mimetype": "text/x-python",
   "name": "python",
   "nbconvert_exporter": "python",
   "pygments_lexer": "ipython3",
   "version": "3.9.7"
  }
 },
 "nbformat": 4,
 "nbformat_minor": 5
}
