{
 "cells": [
  {
   "cell_type": "code",
   "execution_count": 329,
   "metadata": {
    "id": "J-afhAs3RFWh"
   },
   "outputs": [],
   "source": [
    "import pandas as pd\n",
    "import numpy as np\n",
    "import tensorflow as tf\n",
    "from tensorflow.keras import Sequential\n",
    "from tensorflow.keras.layers import Conv1D, Dense, Flatten, Embedding, SimpleRNN, Input, Reshape\n",
    "from tensorflow.keras.preprocessing import sequence\n",
    "from keras.callbacks import EarlyStopping, ModelCheckpoint, ReduceLROnPlateau\n",
    "from tensorflow.keras import Model\n",
    "from tensorflow.keras.models import save_model, load_model\n",
    "import matplotlib.pyplot as plt\n",
    "from sklearn.model_selection import train_test_split\n",
    "from scipy.interpolate import interp1d\n",
    "from sklearn.preprocessing import LabelEncoder\n",
    "from sklearn.metrics import classification_report\n",
    "from keras.callbacks import EarlyStopping, ModelCheckpoint, ReduceLROnPlateau\n",
    "import pickle"
   ]
  },
  {
   "cell_type": "code",
   "execution_count": 278,
   "metadata": {
    "id": "6dgQZTmC7H_8"
   },
   "outputs": [],
   "source": [
    "def convert_to_list(string):\n",
    "    return [float(i) if i != '' else 0 for i in string.split(', ')]\n",
    "\n",
    "def process_dataset(df):\n",
    "    columns = ['time', 'mag', 'flux']\n",
    "    for i in columns:\n",
    "        df[i] = df[i].apply(lambda x: x[1:-1])\n",
    "        df = df[~df[i].isnull()]\n",
    "        df[i] = df[i].apply(convert_to_list)\n",
    "    return df\n",
    "\n",
    "def interpolate_(data, num = 261):\n",
    "    x = data['time']\n",
    "    y = data['mag']\n",
    "    new_mag = []\n",
    "    new_time = []\n",
    "    for i in range(len(data)):\n",
    "        t = data.iloc[i]['time']\n",
    "        x = data.iloc[i]['mag']\n",
    "        newt = np.linspace(min(t), max(t), num, endpoint=True)\n",
    "        f = interp1d(t, x)\n",
    "        newx = f(newt)\n",
    "        new_mag.append(newx)\n",
    "        new_time.append(newt)\n",
    "    df_t = pd.DataFrame({\"intrpol_time\":[i for i in new_t], \"intrpol_mag\": [i for i in new_m]})\n",
    "    return df_t\n",
    "\n",
    "def scale(data):\n",
    "    new_mag = []\n",
    "    for i in range(len(data)):\n",
    "        mean_ = np.mean(data.iloc[i]['intrpol_mag'])\n",
    "        std_ = np.std(data.iloc[i]['intrpol_mag'])\n",
    "        scaled_v = (data.iloc[i]['intrpol_mag'] - mean_) / std_\n",
    "        new_mag.append(list(scaled_v))\n",
    "    return [i for i in new_mag]\n",
    "\n",
    "def onehot_encoder(y):\n",
    "    k = len(np.unique(y))\n",
    "    return np.eye(k)[y]"
   ]
  },
  {
   "cell_type": "code",
   "execution_count": 279,
   "metadata": {
    "colab": {
     "base_uri": "https://localhost:8080/",
     "height": 191
    },
    "id": "U5cXi2NjRojA",
    "outputId": "62f55c14-440f-47c3-9ffc-f7edda2d9cb1"
   },
   "outputs": [
    {
     "data": {
      "text/html": [
       "<div>\n",
       "<style scoped>\n",
       "    .dataframe tbody tr th:only-of-type {\n",
       "        vertical-align: middle;\n",
       "    }\n",
       "\n",
       "    .dataframe tbody tr th {\n",
       "        vertical-align: top;\n",
       "    }\n",
       "\n",
       "    .dataframe thead th {\n",
       "        text-align: right;\n",
       "    }\n",
       "</style>\n",
       "<table border=\"1\" class=\"dataframe\">\n",
       "  <thead>\n",
       "    <tr style=\"text-align: right;\">\n",
       "      <th></th>\n",
       "      <th>source_id</th>\n",
       "      <th>band</th>\n",
       "      <th>time</th>\n",
       "      <th>mag</th>\n",
       "      <th>flux</th>\n",
       "      <th>label</th>\n",
       "    </tr>\n",
       "  </thead>\n",
       "  <tbody>\n",
       "    <tr>\n",
       "      <th>0</th>\n",
       "      <td>1051896903074455936</td>\n",
       "      <td>G</td>\n",
       "      <td>[1709.0473075002526, 1709.12129661769, 1746.93...</td>\n",
       "      <td>[14.779410003765635, 14.61257323866902, 14.388...</td>\n",
       "      <td>[23077.180413664224, 26910.232583122888, 33064...</td>\n",
       "      <td>CEP</td>\n",
       "    </tr>\n",
       "    <tr>\n",
       "      <th>1</th>\n",
       "      <td>1113929871645836672</td>\n",
       "      <td>G</td>\n",
       "      <td>[1705.0618115528753, 1742.1944699213775, 1781....</td>\n",
       "      <td>[11.034948789103318, 10.976913805916949, 11.27...</td>\n",
       "      <td>[726051.1726333069, 765916.145348983, 580536.1...</td>\n",
       "      <td>CEP</td>\n",
       "    </tr>\n",
       "  </tbody>\n",
       "</table>\n",
       "</div>"
      ],
      "text/plain": [
       "             source_id band  \\\n",
       "0  1051896903074455936    G   \n",
       "1  1113929871645836672    G   \n",
       "\n",
       "                                                time  \\\n",
       "0  [1709.0473075002526, 1709.12129661769, 1746.93...   \n",
       "1  [1705.0618115528753, 1742.1944699213775, 1781....   \n",
       "\n",
       "                                                 mag  \\\n",
       "0  [14.779410003765635, 14.61257323866902, 14.388...   \n",
       "1  [11.034948789103318, 10.976913805916949, 11.27...   \n",
       "\n",
       "                                                flux label  \n",
       "0  [23077.180413664224, 26910.232583122888, 33064...   CEP  \n",
       "1  [726051.1726333069, 765916.145348983, 580536.1...   CEP  "
      ]
     },
     "execution_count": 279,
     "metadata": {},
     "output_type": "execute_result"
    }
   ],
   "source": [
    "df =  pd.read_csv(r'D:\\Data\\Mini Dataset\\final_df_g.csv', index_col = 0)\n",
    "df = process_dataset(df)\n",
    "df.reset_index(inplace=True)\n",
    "df.drop(['index'], axis=1, inplace=True)\n",
    "df.head(2)"
   ]
  },
  {
   "cell_type": "code",
   "execution_count": 280,
   "metadata": {},
   "outputs": [],
   "source": [
    "df = pd.concat([df, interpolate_(df[['time','mag']])], axis = 1)"
   ]
  },
  {
   "cell_type": "code",
   "execution_count": 281,
   "metadata": {},
   "outputs": [],
   "source": [
    "df['scaled_mag'] = scale(df)"
   ]
  },
  {
   "cell_type": "code",
   "execution_count": 320,
   "metadata": {
    "id": "8e621cFLS_Jo"
   },
   "outputs": [],
   "source": [
    "X = df['scaled_mag']\n",
    "y = df[['label']]"
   ]
  },
  {
   "cell_type": "code",
   "execution_count": 321,
   "metadata": {
    "colab": {
     "base_uri": "https://localhost:8080/"
    },
    "id": "bjzS1eqhU98-",
    "outputId": "80db7f3a-3acc-4316-ba5c-e58e6db744e1"
   },
   "outputs": [],
   "source": [
    "le = LabelEncoder().fit(y['label'])\n",
    "y = le.transform(y['label'])\n",
    "y = onehot_encoder(y)"
   ]
  },
  {
   "cell_type": "code",
   "execution_count": 284,
   "metadata": {
    "id": "fENRZWCLT78X"
   },
   "outputs": [],
   "source": [
    "X_train, X_test, y_train, y_test = train_test_split(X, y, test_size = 0.2, random_state = 42)\n",
    "X_train.shape, y_train.shape, X_test.shape, y_test.shape"
   ]
  },
  {
   "cell_type": "code",
   "execution_count": 288,
   "metadata": {
    "colab": {
     "base_uri": "https://localhost:8080/"
    },
    "id": "JgkMQFZgXROu",
    "outputId": "627f1486-e57d-430e-ddd6-cda8b8ca6fb6"
   },
   "outputs": [
    {
     "name": "stdout",
     "output_type": "stream",
     "text": [
      "261\n"
     ]
    }
   ],
   "source": [
    "length = [len(i) for i in X]\n",
    "print(max(length))"
   ]
  },
  {
   "cell_type": "code",
   "execution_count": null,
   "metadata": {
    "id": "AEcVWK3tZ5Ut"
   },
   "outputs": [],
   "source": [
    "max_words = 261\n",
    "postpad_X = sequence.pad_sequences(X_train, padding='post', maxlen = max_words, dtype='float')\n",
    "postpad_X = np.expand_dims(postpad_X,axis=2)"
   ]
  },
  {
   "cell_type": "code",
   "execution_count": 289,
   "metadata": {},
   "outputs": [],
   "source": [
    "X_train = np.array([i for i in X_train])\n",
    "X_train = np.expand_dims(X_train, axis = 2)\n",
    "\n",
    "X_test = np.array([i for i in X_test])\n",
    "X_test = np.expand_dims(X_test, axis = 2)"
   ]
  },
  {
   "cell_type": "code",
   "execution_count": 236,
   "metadata": {
    "colab": {
     "base_uri": "https://localhost:8080/"
    },
    "id": "ejWVr9H8Y5SV",
    "outputId": "0ea466f1-b123-4966-e443-471b80bd8a26"
   },
   "outputs": [
    {
     "name": "stdout",
     "output_type": "stream",
     "text": [
      "Model: \"model_2\"\n",
      "_________________________________________________________________\n",
      "Layer (type)                 Output Shape              Param #   \n",
      "=================================================================\n",
      "input_3 (InputLayer)         [(None, 261, 1)]          0         \n",
      "_________________________________________________________________\n",
      "simple_rnn_2 (SimpleRNN)     (None, 64)                4224      \n",
      "_________________________________________________________________\n",
      "dense_2 (Dense)              (None, 4)                 260       \n",
      "=================================================================\n",
      "Total params: 4,484\n",
      "Trainable params: 4,484\n",
      "Non-trainable params: 0\n",
      "_________________________________________________________________\n",
      "None\n"
     ]
    }
   ],
   "source": [
    "input_ = Input(shape = (261,1))\n",
    "rnn1 = SimpleRNN(64, return_sequences=False)(input_)\n",
    "output = Dense(4, activation='softmax')(rnn1)\n",
    "model = Model(inputs=input_, outputs=output)\n",
    "# summarize layers\n",
    "print(model.summary())"
   ]
  },
  {
   "cell_type": "code",
   "execution_count": 237,
   "metadata": {
    "id": "hzA_7MTPdqqV"
   },
   "outputs": [],
   "source": [
    "model.compile(optimizer='adam', loss='categorical_crossentropy', metrics=['accuracy'])"
   ]
  },
  {
   "cell_type": "code",
   "execution_count": 238,
   "metadata": {
    "id": "CYN4QPyreQnd"
   },
   "outputs": [],
   "source": [
    "# Create callbacks\n",
    "checkpoint = ModelCheckpoint('best_model.h5', save_best_only=True, monitor='val_loss', mode='min', verbose=1)\n",
    "early_stop = EarlyStopping(monitor='val_loss', patience=10, mode='min',restore_best_weights=True)\n",
    "lr = ReduceLROnPlateau(patience=4, verbose=2, monitor='val_loss',min_lr=1e-4, mode='min', restore_best_weights=True)\n",
    "callback = [checkpoint, early_stop, lr]"
   ]
  },
  {
   "cell_type": "code",
   "execution_count": 245,
   "metadata": {
    "colab": {
     "base_uri": "https://localhost:8080/"
    },
    "id": "Wr6g9wmiebyH",
    "outputId": "97a72088-6413-4b6d-cde6-8b8649e651dd"
   },
   "outputs": [
    {
     "name": "stdout",
     "output_type": "stream",
     "text": [
      "Epoch 1/20\n",
      "601/601 [==============================] - 159s 252ms/step - loss: 1.2901 - accuracy: 0.3642 - val_loss: 1.2190 - val_accuracy: 0.4229\n",
      "\n",
      "Epoch 00001: val_loss improved from inf to 1.21899, saving model to best_model.h5\n",
      "Epoch 2/20\n",
      "601/601 [==============================] - 154s 256ms/step - loss: 1.2920 - accuracy: 0.3873 - val_loss: 1.3703 - val_accuracy: 0.2756\n",
      "\n",
      "Epoch 00002: val_loss did not improve from 1.21899\n",
      "Epoch 3/20\n",
      "601/601 [==============================] - 154s 256ms/step - loss: 1.2102 - accuracy: 0.4153 - val_loss: 1.0971 - val_accuracy: 0.4866\n",
      "\n",
      "Epoch 00003: val_loss improved from 1.21899 to 1.09706, saving model to best_model.h5\n",
      "Epoch 4/20\n",
      "601/601 [==============================] - 154s 256ms/step - loss: 1.2466 - accuracy: 0.4066 - val_loss: 1.2519 - val_accuracy: 0.3878\n",
      "\n",
      "Epoch 00004: val_loss did not improve from 1.09706\n",
      "Epoch 5/20\n",
      "601/601 [==============================] - 152s 253ms/step - loss: 1.2351 - accuracy: 0.4070 - val_loss: 1.2494 - val_accuracy: 0.3917\n",
      "\n",
      "Epoch 00005: val_loss did not improve from 1.09706\n",
      "Epoch 6/20\n",
      "601/601 [==============================] - 152s 253ms/step - loss: 1.2128 - accuracy: 0.4168 - val_loss: 1.0569 - val_accuracy: 0.4823\n",
      "\n",
      "Epoch 00006: val_loss improved from 1.09706 to 1.05686, saving model to best_model.h5\n",
      "Epoch 7/20\n",
      "601/601 [==============================] - 153s 255ms/step - loss: 1.0755 - accuracy: 0.5048 - val_loss: 1.0166 - val_accuracy: 0.5225\n",
      "\n",
      "Epoch 00007: val_loss improved from 1.05686 to 1.01656, saving model to best_model.h5\n",
      "Epoch 8/20\n",
      "601/601 [==============================] - 155s 257ms/step - loss: 1.1170 - accuracy: 0.4838 - val_loss: 1.2550 - val_accuracy: 0.3994\n",
      "\n",
      "Epoch 00008: val_loss did not improve from 1.01656\n",
      "Epoch 9/20\n",
      "601/601 [==============================] - 151s 252ms/step - loss: 1.1629 - accuracy: 0.4506 - val_loss: 1.0241 - val_accuracy: 0.5313\n",
      "\n",
      "Epoch 00009: val_loss did not improve from 1.01656\n",
      "Epoch 10/20\n",
      "601/601 [==============================] - 151s 252ms/step - loss: 1.1096 - accuracy: 0.4879 - val_loss: 1.1752 - val_accuracy: 0.4585\n",
      "\n",
      "Epoch 00010: val_loss did not improve from 1.01656\n",
      "Epoch 11/20\n",
      "601/601 [==============================] - 150s 250ms/step - loss: 1.1480 - accuracy: 0.4722 - val_loss: 1.1256 - val_accuracy: 0.4900\n",
      "\n",
      "Epoch 00011: val_loss did not improve from 1.01656\n",
      "\n",
      "Epoch 00011: ReduceLROnPlateau reducing learning rate to 0.00010000000474974513.\n",
      "Epoch 12/20\n",
      "601/601 [==============================] - 152s 254ms/step - loss: 1.0764 - accuracy: 0.5135 - val_loss: 1.0641 - val_accuracy: 0.5249\n",
      "\n",
      "Epoch 00012: val_loss did not improve from 1.01656\n",
      "Epoch 13/20\n",
      "601/601 [==============================] - 155s 258ms/step - loss: 1.0604 - accuracy: 0.5247 - val_loss: 1.0434 - val_accuracy: 0.5273\n",
      "\n",
      "Epoch 00013: val_loss did not improve from 1.01656\n",
      "Epoch 14/20\n",
      "601/601 [==============================] - 154s 256ms/step - loss: 1.0532 - accuracy: 0.5323 - val_loss: 1.0919 - val_accuracy: 0.4851\n",
      "\n",
      "Epoch 00014: val_loss did not improve from 1.01656\n",
      "Epoch 15/20\n",
      "601/601 [==============================] - 156s 259ms/step - loss: 1.0421 - accuracy: 0.5399 - val_loss: 1.0162 - val_accuracy: 0.5646\n",
      "\n",
      "Epoch 00015: val_loss improved from 1.01656 to 1.01616, saving model to best_model.h5\n",
      "Epoch 16/20\n",
      "601/601 [==============================] - 150s 250ms/step - loss: 1.0534 - accuracy: 0.5300 - val_loss: 1.0822 - val_accuracy: 0.5097\n",
      "\n",
      "Epoch 00016: val_loss did not improve from 1.01616\n",
      "Epoch 17/20\n",
      "601/601 [==============================] - 153s 255ms/step - loss: 1.0213 - accuracy: 0.5441 - val_loss: 0.9926 - val_accuracy: 0.5657\n",
      "\n",
      "Epoch 00017: val_loss improved from 1.01616 to 0.99261, saving model to best_model.h5\n",
      "Epoch 18/20\n",
      "601/601 [==============================] - 155s 258ms/step - loss: 0.9994 - accuracy: 0.5599 - val_loss: 1.1207 - val_accuracy: 0.4968\n",
      "\n",
      "Epoch 00018: val_loss did not improve from 0.99261\n",
      "Epoch 19/20\n",
      "601/601 [==============================] - 155s 258ms/step - loss: 0.9801 - accuracy: 0.5632 - val_loss: 0.9670 - val_accuracy: 0.5711\n",
      "\n",
      "Epoch 00019: val_loss improved from 0.99261 to 0.96700, saving model to best_model.h5\n",
      "Epoch 20/20\n",
      "601/601 [==============================] - 152s 252ms/step - loss: 0.9857 - accuracy: 0.5682 - val_loss: 0.9564 - val_accuracy: 0.5817\n",
      "\n",
      "Epoch 00020: val_loss improved from 0.96700 to 0.95641, saving model to best_model.h5\n"
     ]
    }
   ],
   "source": [
    "history = model.fit(X_train, y_train, validation_split=0.2, epochs=20, batch_size=64, callbacks= callback)"
   ]
  },
  {
   "cell_type": "code",
   "execution_count": 266,
   "metadata": {},
   "outputs": [
    {
     "data": {
      "image/png": "[encoded data removed]",
      "text/plain": [
       "<Figure size 1080x360 with 2 Axes>"
      ]
     },
     "metadata": {
      "needs_background": "light"
     },
     "output_type": "display_data"
    }
   ],
   "source": [
    "f,axs = plt.subplots(1,2, figsize=(15,5))\n",
    "f.suptitle(\"Training for Simple RNN with interpolation\", fontsize=14)\n",
    "\n",
    "axs[0].plot(history.history['loss'], label=\"Train Loss\")\n",
    "axs[0].plot(history.history['val_loss'], label=\"Val Loss\")\n",
    "axs[0].legend()\n",
    "axs[0].set_title(\"Loss vs Epoch\")\n",
    "axs[0].set_xlabel(\"Epochs\")\n",
    "axs[0].set_ylabel(\"Loss\")\n",
    "\n",
    "axs[1].plot(history.history['accuracy'], label=\"Train accuracy\")\n",
    "axs[1].plot(history.history['val_accuracy'], label=\"Val accuracy\")\n",
    "axs[1].legend()\n",
    "axs[1].set_title(\"Loss vs Accuracy\")\n",
    "axs[1].set_xlabel(\"Epochs\")\n",
    "axs[1].set_ylabel(\"Accuracy\")\n",
    "plt.show()"
   ]
  },
  {
   "cell_type": "code",
   "execution_count": 300,
   "metadata": {},
   "outputs": [
    {
     "name": "stdout",
     "output_type": "stream",
     "text": [
      "376/376 [==============================] - 28s 61ms/step - loss: 0.9442 - accuracy: 0.5892\n"
     ]
    },
    {
     "data": {
      "text/plain": [
       "[0.9442304372787476, 0.5891711711883545]"
      ]
     },
     "execution_count": 300,
     "metadata": {},
     "output_type": "execute_result"
    }
   ],
   "source": [
    "model.evaluate(X_test, y_test)"
   ]
  },
  {
   "cell_type": "code",
   "execution_count": 304,
   "metadata": {},
   "outputs": [],
   "source": [
    "prediction = model.predict(X_train)\n",
    "prediction = np.argmax(prediction, axis = 1)"
   ]
  },
  {
   "cell_type": "code",
   "execution_count": 326,
   "metadata": {},
   "outputs": [
    {
     "name": "stdout",
     "output_type": "stream",
     "text": [
      "              precision    recall  f1-score   support\n",
      "\n",
      "         CEP       0.42      0.44      0.43     11528\n",
      "         ECP       0.90      0.74      0.81     14649\n",
      "         LPV       0.33      0.53      0.41      7546\n",
      "          RR       0.67      0.56      0.61     14293\n",
      "\n",
      "    accuracy                           0.58     48016\n",
      "   macro avg       0.58      0.57      0.57     48016\n",
      "weighted avg       0.63      0.58      0.60     48016\n",
      "\n"
     ]
    }
   ],
   "source": [
    "print(classification_report(prediction, np.argmax(y_train, axis = 1), target_names = le.classes_))"
   ]
  },
  {
   "cell_type": "code",
   "execution_count": 328,
   "metadata": {},
   "outputs": [],
   "source": [
    "save_model(model, r\"models\\simpleRNN_Interpolation_Normalized.h5\")\n",
    "with open(r\"histories\\simpleRNN_Interpolation_Normalized.pkl\", 'wb') as f:\n",
    "    pickle.dump(history.history, f)"
   ]
  },
  {
   "cell_type": "code",
   "execution_count": 333,
   "metadata": {},
   "outputs": [],
   "source": [
    "model = load_model(r\"models\\simpleRNN_Interpolation_Normalized.h5\")\n",
    "with open(r\"histories\\simpleRNN_Interpolation_Normalized.pkl\", 'rb') as f:\n",
    "    pickle.load(f)\n"
   ]
  },
  {
   "cell_type": "markdown",
   "metadata": {},
   "source": [
    "## SimpleRNN with Conv1D filter = 1"
   ]
  },
  {
   "cell_type": "code",
   "execution_count": 335,
   "metadata": {
    "id": "4cOQyTuyEktC"
   },
   "outputs": [],
   "source": [
    "input_ = Input(shape=(None, 1))\n",
    "conv1d_ = Conv1D(filters = 1, kernel_size = 5, activation='relu', padding= \"same\")(input_)\n",
    "rnn1_ = SimpleRNN(64, return_sequences=False)(conv1d_)\n",
    "dense_ = Dense(4, activation='softmax')(rnn1_)\n",
    "\n",
    "model = Model(inputs = input_, outputs = dense_)"
   ]
  },
  {
   "cell_type": "code",
   "execution_count": 336,
   "metadata": {
    "id": "8RXYjl2AVnZS"
   },
   "outputs": [],
   "source": [
    "model.compile(optimizer='adam', loss='categorical_crossentropy', metrics=['accuracy'])\n",
    "\n",
    "# Create callbacks\n",
    "checkpoint = ModelCheckpoint('best_model.h5', save_best_only=True, monitor='val_loss', mode='min', verbose=1)\n",
    "early_stop = EarlyStopping(monitor='val_loss', patience=10, mode='min',restore_best_weights=True)\n",
    "lr = ReduceLROnPlateau(patience=4, verbose=2, monitor='val_loss',min_lr=1e-4, mode='min', restore_best_weights=True)\n",
    "callback = [checkpoint, early_stop, lr]"
   ]
  },
  {
   "cell_type": "code",
   "execution_count": 337,
   "metadata": {
    "colab": {
     "base_uri": "https://localhost:8080/",
     "height": 553
    },
    "id": "32BivD0bQ0UQ",
    "outputId": "5fea6dd5-f4d1-4614-b842-2766d9da9447"
   },
   "outputs": [
    {
     "name": "stdout",
     "output_type": "stream",
     "text": [
      "Epoch 1/20\n",
      "601/601 [==============================] - 253s 355ms/step - loss: 1.3452 - accuracy: 0.3324 - val_loss: 1.3388 - val_accuracy: 0.3278\n",
      "\n",
      "Epoch 00001: val_loss improved from inf to 1.33879, saving model to best_model.h5\n",
      "Epoch 2/20\n",
      "601/601 [==============================] - 213s 354ms/step - loss: 1.3643 - accuracy: 0.3040 - val_loss: 1.3572 - val_accuracy: 0.3172\n",
      "\n",
      "Epoch 00002: val_loss did not improve from 1.33879\n",
      "Epoch 3/20\n",
      "601/601 [==============================] - 217s 360ms/step - loss: 1.3544 - accuracy: 0.3158 - val_loss: 1.3798 - val_accuracy: 0.2654\n",
      "\n",
      "Epoch 00003: val_loss did not improve from 1.33879\n",
      "Epoch 4/20\n",
      "601/601 [==============================] - 212s 352ms/step - loss: 1.3832 - accuracy: 0.2758 - val_loss: 1.3644 - val_accuracy: 0.2936\n",
      "\n",
      "Epoch 00004: val_loss did not improve from 1.33879\n",
      "Epoch 5/20\n",
      "601/601 [==============================] - 211s 352ms/step - loss: 1.3567 - accuracy: 0.3138 - val_loss: 1.3597 - val_accuracy: 0.3041\n",
      "\n",
      "Epoch 00005: val_loss did not improve from 1.33879\n",
      "\n",
      "Epoch 00005: ReduceLROnPlateau reducing learning rate to 0.00010000000474974513.\n",
      "Epoch 6/20\n",
      "601/601 [==============================] - 214s 356ms/step - loss: 1.3413 - accuracy: 0.3513 - val_loss: 1.3303 - val_accuracy: 0.3499\n",
      "\n",
      "Epoch 00006: val_loss improved from 1.33879 to 1.33030, saving model to best_model.h5\n",
      "Epoch 7/20\n",
      "601/601 [==============================] - 214s 357ms/step - loss: 1.3291 - accuracy: 0.3612 - val_loss: 1.3193 - val_accuracy: 0.3877\n",
      "\n",
      "Epoch 00007: val_loss improved from 1.33030 to 1.31930, saving model to best_model.h5\n",
      "Epoch 8/20\n",
      "601/601 [==============================] - 214s 356ms/step - loss: 1.3216 - accuracy: 0.3667 - val_loss: 1.3143 - val_accuracy: 0.3800\n",
      "\n",
      "Epoch 00008: val_loss improved from 1.31930 to 1.31430, saving model to best_model.h5\n",
      "Epoch 9/20\n",
      "601/601 [==============================] - 215s 359ms/step - loss: 1.3178 - accuracy: 0.3725 - val_loss: 1.3195 - val_accuracy: 0.3585\n",
      "\n",
      "Epoch 00009: val_loss did not improve from 1.31430\n",
      "Epoch 10/20\n",
      "601/601 [==============================] - 214s 356ms/step - loss: 1.3088 - accuracy: 0.3784 - val_loss: 1.3158 - val_accuracy: 0.3700\n",
      "\n",
      "Epoch 00010: val_loss did not improve from 1.31430\n",
      "Epoch 11/20\n",
      "601/601 [==============================] - 213s 355ms/step - loss: 1.3062 - accuracy: 0.3801 - val_loss: 1.2947 - val_accuracy: 0.4041\n",
      "\n",
      "Epoch 00011: val_loss improved from 1.31430 to 1.29469, saving model to best_model.h5\n",
      "Epoch 12/20\n",
      "601/601 [==============================] - 213s 354ms/step - loss: 1.3060 - accuracy: 0.3790 - val_loss: 1.3088 - val_accuracy: 0.3804\n",
      "\n",
      "Epoch 00012: val_loss did not improve from 1.29469\n",
      "Epoch 13/20\n",
      "601/601 [==============================] - 214s 356ms/step - loss: 1.2968 - accuracy: 0.3883 - val_loss: 1.2841 - val_accuracy: 0.4070\n",
      "\n",
      "Epoch 00013: val_loss improved from 1.29469 to 1.28409, saving model to best_model.h5\n",
      "Epoch 14/20\n",
      "601/601 [==============================] - 221s 368ms/step - loss: 1.2934 - accuracy: 0.3905 - val_loss: 1.3364 - val_accuracy: 0.3358\n",
      "\n",
      "Epoch 00014: val_loss did not improve from 1.28409\n",
      "Epoch 15/20\n",
      "601/601 [==============================] - 211s 352ms/step - loss: 1.2849 - accuracy: 0.4007 - val_loss: 1.2703 - val_accuracy: 0.4206\n",
      "\n",
      "Epoch 00015: val_loss improved from 1.28409 to 1.27034, saving model to best_model.h5\n",
      "Epoch 16/20\n",
      "601/601 [==============================] - 213s 354ms/step - loss: 1.2799 - accuracy: 0.4047 - val_loss: 1.2649 - val_accuracy: 0.4259\n",
      "\n",
      "Epoch 00016: val_loss improved from 1.27034 to 1.26486, saving model to best_model.h5\n",
      "Epoch 17/20\n",
      "601/601 [==============================] - 216s 359ms/step - loss: 1.2747 - accuracy: 0.4103 - val_loss: 1.2622 - val_accuracy: 0.4241\n",
      "\n",
      "Epoch 00017: val_loss improved from 1.26486 to 1.26224, saving model to best_model.h5\n",
      "Epoch 18/20\n",
      "601/601 [==============================] - 211s 352ms/step - loss: 1.2681 - accuracy: 0.4170 - val_loss: 1.2616 - val_accuracy: 0.4275\n",
      "\n",
      "Epoch 00018: val_loss improved from 1.26224 to 1.26159, saving model to best_model.h5\n",
      "Epoch 19/20\n",
      "601/601 [==============================] - 213s 354ms/step - loss: 1.2579 - accuracy: 0.4255 - val_loss: 1.2452 - val_accuracy: 0.4446\n",
      "\n",
      "Epoch 00019: val_loss improved from 1.26159 to 1.24525, saving model to best_model.h5\n",
      "Epoch 20/20\n",
      "601/601 [==============================] - 213s 354ms/step - loss: 1.2453 - accuracy: 0.4381 - val_loss: 1.2255 - val_accuracy: 0.4550\n",
      "\n",
      "Epoch 00020: val_loss improved from 1.24525 to 1.22547, saving model to best_model.h5\n"
     ]
    }
   ],
   "source": [
    "history = model.fit(X_train, y_train, validation_split=0.2, epochs=20, batch_size=64, callbacks= callback)"
   ]
  },
  {
   "cell_type": "code",
   "execution_count": 338,
   "metadata": {
    "id": "UVwB2HHgkokt"
   },
   "outputs": [
    {
     "data": {
      "image/png": "[encoded data removed]",
      "text/plain": [
       "<Figure size 1080x360 with 2 Axes>"
      ]
     },
     "metadata": {
      "needs_background": "light"
     },
     "output_type": "display_data"
    }
   ],
   "source": [
    "f,axs = plt.subplots(1,2, figsize=(15,5))\n",
    "f.suptitle(\"Training for Simple RNN with interpolation\", fontsize=14)\n",
    "\n",
    "axs[0].plot(history.history['loss'], label=\"Train Loss\")\n",
    "axs[0].plot(history.history['val_loss'], label=\"Val Loss\")\n",
    "axs[0].legend()\n",
    "axs[0].set_title(\"Loss vs Epoch\")\n",
    "axs[0].set_xlabel(\"Epochs\")\n",
    "axs[0].set_ylabel(\"Loss\")\n",
    "\n",
    "axs[1].plot(history.history['accuracy'], label=\"Train accuracy\")\n",
    "axs[1].plot(history.history['val_accuracy'], label=\"Val accuracy\")\n",
    "axs[1].legend()\n",
    "axs[1].set_title(\"Loss vs Accuracy\")\n",
    "axs[1].set_xlabel(\"Epochs\")\n",
    "axs[1].set_ylabel(\"Accuracy\")\n",
    "plt.show()"
   ]
  },
  {
   "cell_type": "code",
   "execution_count": 339,
   "metadata": {},
   "outputs": [
    {
     "name": "stdout",
     "output_type": "stream",
     "text": [
      "376/376 [==============================] - 19s 49ms/step - loss: 1.2288 - accuracy: 0.4580\n"
     ]
    },
    {
     "data": {
      "text/plain": [
       "[1.2287896871566772, 0.457975834608078]"
      ]
     },
     "execution_count": 339,
     "metadata": {},
     "output_type": "execute_result"
    }
   ],
   "source": [
    "model.evaluate(X_test, y_test)"
   ]
  },
  {
   "cell_type": "code",
   "execution_count": 344,
   "metadata": {},
   "outputs": [],
   "source": [
    "X_ = np.array([i for i in X])\n",
    "X_ = np.expand_dims(X_, axis = 2)\n",
    "\n",
    "prediction = model.predict(X_)\n",
    "prediction = np.argmax(prediction, axis = 1)"
   ]
  },
  {
   "cell_type": "code",
   "execution_count": 346,
   "metadata": {},
   "outputs": [
    {
     "name": "stdout",
     "output_type": "stream",
     "text": [
      "              precision    recall  f1-score   support\n",
      "\n",
      "         CEP       0.39      0.41      0.40     14445\n",
      "         ECP       0.43      0.48      0.45     13457\n",
      "         LPV       0.64      0.44      0.52     22018\n",
      "          RR       0.37      0.55      0.45     10101\n",
      "\n",
      "    accuracy                           0.46     60021\n",
      "   macro avg       0.46      0.47      0.45     60021\n",
      "weighted avg       0.49      0.46      0.46     60021\n",
      "\n"
     ]
    }
   ],
   "source": [
    "print(classification_report(prediction, np.argmax(y, axis = 1), target_names = le.classes_))"
   ]
  },
  {
   "cell_type": "code",
   "execution_count": 347,
   "metadata": {},
   "outputs": [],
   "source": [
    "save_model(model, r\"models\\simpleRNN_Interpolation_Normalized_With_Conv1D.h5\")\n",
    "with open(r\"histories\\simpleRNN_Interpolation_Normalized_With_Conv1D.pkl\", 'wb') as f:\n",
    "    pickle.dump(history.history, f)"
   ]
  },
  {
   "cell_type": "code",
   "execution_count": null,
   "metadata": {},
   "outputs": [],
   "source": [
    "model = load_model(r\"models\\simpleRNN_Interpolation_Normalized_With_Conv1D.h5\")\n",
    "with open(r\"histories\\simpleRNN_Interpolation_Normalized_With_Conv1D.pkl\", 'rb') as f:\n",
    "    pickle.load(f)\n"
   ]
  },
  {
   "cell_type": "markdown",
   "metadata": {},
   "source": [
    "## SimpleRNN with Conv1D filter = 5"
   ]
  },
  {
   "cell_type": "code",
   "execution_count": 351,
   "metadata": {},
   "outputs": [],
   "source": [
    "input_ = Input(shape=(None, 1))\n",
    "conv1d_ = Conv1D(filters = 5, kernel_size = 5, activation='relu', padding= \"same\")(input_)\n",
    "rnn1_ = SimpleRNN(64, return_sequences=False)(conv1d_)\n",
    "dense_ = Dense(4, activation='softmax')(rnn1_)\n",
    "\n",
    "model = Model(inputs = input_, outputs = dense_)"
   ]
  },
  {
   "cell_type": "code",
   "execution_count": null,
   "metadata": {},
   "outputs": [],
   "source": [
    "model.compile(optimizer='adam', loss='categorical_crossentropy', metrics=['accuracy'])\n",
    "\n",
    "# Create callbacks\n",
    "checkpoint = ModelCheckpoint('best_model.h5', save_best_only=True, monitor='val_loss', mode='min', verbose=1)\n",
    "early_stop = EarlyStopping(monitor='val_loss', patience=10, mode='min',restore_best_weights=True)\n",
    "lr = ReduceLROnPlateau(patience=4, verbose=2, monitor='val_loss',min_lr=1e-4, mode='min', restore_best_weights=True)\n",
    "callback = [checkpoint, early_stop, lr]"
   ]
  },
  {
   "cell_type": "code",
   "execution_count": 352,
   "metadata": {},
   "outputs": [
    {
     "name": "stdout",
     "output_type": "stream",
     "text": [
      "Model: \"model_5\"\n",
      "_________________________________________________________________\n",
      "Layer (type)                 Output Shape              Param #   \n",
      "=================================================================\n",
      "input_6 (InputLayer)         [(None, None, 1)]         0         \n",
      "_________________________________________________________________\n",
      "conv1d_2 (Conv1D)            (None, None, 5)           30        \n",
      "_________________________________________________________________\n",
      "simple_rnn_5 (SimpleRNN)     (None, 64)                4480      \n",
      "=================================================================\n",
      "Total params: 4,510\n",
      "Trainable params: 4,510\n",
      "Non-trainable params: 0\n",
      "_________________________________________________________________\n"
     ]
    }
   ],
   "source": [
    "model.summary()"
   ]
  }
 ],
 "metadata": {
  "colab": {
   "collapsed_sections": [],
   "name": "base_modelling_gaia.ipynb",
   "provenance": []
  },
  "kernelspec": {
   "display_name": "Python 3 (ipykernel)",
   "language": "python",
   "name": "python3"
  },
  "language_info": {
   "codemirror_mode": {
    "name": "ipython",
    "version": 3
   },
   "file_extension": ".py",
   "mimetype": "text/x-python",
   "name": "python",
   "nbconvert_exporter": "python",
   "pygments_lexer": "ipython3",
   "version": "3.9.7"
  }
 },
 "nbformat": 4,
 "nbformat_minor": 4
}
