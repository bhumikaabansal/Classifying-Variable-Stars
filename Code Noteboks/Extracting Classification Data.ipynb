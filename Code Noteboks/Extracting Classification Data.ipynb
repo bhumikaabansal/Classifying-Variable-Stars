{
 "cells": [
  {
   "cell_type": "code",
   "execution_count": 1,
   "id": "f5e12193",
   "metadata": {},
   "outputs": [],
   "source": [
    "from astroquery.gaia import Gaia\n",
    "import matplotlib.pyplot as plt\n",
    "import math"
   ]
  },
  {
   "cell_type": "code",
   "execution_count": 2,
   "id": "07951924",
   "metadata": {},
   "outputs": [],
   "source": [
    "def extract_dl_ind(datalink_dict, key, figsize = [15,5], fontsize = 12, linewidth = 2, show_legend = True, show_grid = True):\n",
    "    \"\"\n",
    "    \"Extract individual DataLink products and export them to an Astropy Table\"\n",
    "    \"\"\n",
    "    dl_out  = datalink_dict[key][0].to_table()\n",
    "    if 'time' in dl_out.keys():\n",
    "        plot_e_phot(dl_out, colours  = ['green', 'red', 'blue'], title = 'Epoch photometry', fontsize = fontsize, show_legend = show_legend, show_grid = show_grid, figsize = figsize)\n",
    "    if 'wavelength' in dl_out.keys():\n",
    "        if len(dl_out) == 343:  title = 'XP Sampled'\n",
    "        if len(dl_out) == 2401: title = 'RVS'\n",
    "        plot_sampled_spec(dl_out, color = 'blue', title = title, fontsize = fontsize, show_legend = False, show_grid = show_grid, linewidth = linewidth, legend = '', figsize = figsize)\n",
    "    return dl_out\n",
    "\n",
    "\n",
    "def plot_e_phot(inp_table, colours  = ['green', 'red', 'blue'], title = 'Epoch photometry', fontsize = 12, show_legend = True, show_grid = True, figsize = [15,5]):\n",
    "    \"\"\n",
    "    \"Epoch photometry plotter. 'inp_table' MUST be an Astropy-table object.\"\n",
    "    \"\"\n",
    "    fig      = plt.figure(figsize=figsize)\n",
    "    xlabel   = f'JD date [{inp_table[\"time\"].unit}]'\n",
    "    ylabel   = f'magnitude [{inp_table[\"mag\"].unit}]'\n",
    "    gbands   = ['G', 'RP', 'BP']\n",
    "    colours  = iter(colours)\n",
    "\n",
    "    plt.gca().invert_yaxis()\n",
    "    for band in gbands:\n",
    "        phot_set = inp_table[inp_table['band'] == band]\n",
    "        plt.plot(phot_set['time'], phot_set['mag'], 'o', label = band, color = next(colours))\n",
    "    make_canvas(title = title, xlabel = xlabel, ylabel = ylabel, fontsize= fontsize, show_legend=show_legend, show_grid = show_grid)\n",
    "    plt.show()\n",
    "\n",
    "\n",
    "def plot_sampled_spec(inp_table, color = 'blue', title = '', fontsize = 14, show_legend = True, show_grid = True, linewidth = 2, legend = '', figsize = [12,4], show_plot = True):\n",
    "    \"\"\n",
    "    \"RVS & XP sampled spectrum plotter. 'inp_table' MUST be an Astropy-table object.\"\n",
    "    \"\"\n",
    "    if show_plot:\n",
    "        fig      = plt.figure(figsize=figsize)\n",
    "    xlabel   = f'Wavelength [{inp_table[\"wavelength\"].unit}]'\n",
    "    ylabel   = f'Flux [{inp_table[\"flux\"].unit}]'\n",
    "    plt.plot(inp_table['wavelength'], inp_table['flux'], '-', linewidth = linewidth, label = legend)\n",
    "    make_canvas(title = title, xlabel = xlabel, ylabel = ylabel, fontsize= fontsize, show_legend=show_legend, show_grid = show_grid)\n",
    "    if show_plot:\n",
    "        plt.show()\n",
    "\n",
    "\n",
    "def make_canvas(title = '', xlabel = '', ylabel = '', show_grid = False, show_legend = False, fontsize = 12):\n",
    "    \"\"\n",
    "    \"Create generic canvas for plots\"\n",
    "    \"\"\n",
    "    plt.title(title,    fontsize = fontsize)\n",
    "    plt.xlabel(xlabel,  fontsize = fontsize)\n",
    "    plt.ylabel(ylabel , fontsize = fontsize)\n",
    "    plt.xticks(fontsize = fontsize)\n",
    "    plt.yticks(fontsize = fontsize)\n",
    "    if show_grid:\n",
    "        plt.grid()\n",
    "    if show_legend:\n",
    "        plt.legend(fontsize = fontsize*0.75)"
   ]
  },
  {
   "cell_type": "code",
   "execution_count": 7,
   "id": "9632d341",
   "metadata": {},
   "outputs": [
    {
     "name": "stdout",
     "output_type": "stream",
     "text": [
      "INFO: Query finished. [astroquery.utils.tap.core]\n",
      "Table size (rows): 2325775\n"
     ]
    }
   ],
   "source": [
    "#query = f\"SELECT * FROM gaiadr3.gaia_source WHERE has_epoch_photometry = 'TRUE' and source_id = 1035533795140608\"\n",
    "query = f\"SELECT * FROM gaiadr3.vari_classifier_result WHERE best_class_name ='LPV'\"\n",
    "\n",
    "job     = Gaia.launch_job_async(query)\n",
    "results = job.get_results()\n",
    "print(f'Table size (rows): {len(results)}')"
   ]
  },
  {
   "cell_type": "code",
   "execution_count": 8,
   "id": "ecdf4639",
   "metadata": {},
   "outputs": [
    {
     "data": {
      "text/html": [
       "<div><i>Table length=2325775</i>\n",
       "<table id=\"table1469067959312\" class=\"table-striped table-bordered table-condensed\">\n",
       "<thead><tr><th>solution_id</th><th>source_id</th><th>classifier_name</th><th>best_class_name</th><th>best_class_score</th></tr></thead>\n",
       "<thead><tr><th>int64</th><th>int64</th><th>str15</th><th>str30</th><th>float32</th></tr></thead>\n",
       "<tr><td>375316653866487564</td><td>5902285104890627584</td><td>nTransits:5+</td><td>LPV</td><td>0.038731564</td></tr>\n",
       "<tr><td>375316653866487564</td><td>5902285315377331200</td><td>nTransits:5+</td><td>LPV</td><td>0.9638877</td></tr>\n",
       "<tr><td>375316653866487564</td><td>5902291225252490240</td><td>nTransits:5+</td><td>LPV</td><td>0.92284286</td></tr>\n",
       "<tr><td>375316653866487564</td><td>5902293523025573760</td><td>nTransits:5+</td><td>LPV</td><td>0.978285</td></tr>\n",
       "<tr><td>375316653866487564</td><td>5902296168725541120</td><td>nTransits:5+</td><td>LPV</td><td>0.9871295</td></tr>\n",
       "<tr><td>375316653866487564</td><td>5902298853114705664</td><td>nTransits:5+</td><td>LPV</td><td>0.9231881</td></tr>\n",
       "<tr><td>375316653866487564</td><td>5902299540309456128</td><td>nTransits:5+</td><td>LPV</td><td>0.9609122</td></tr>\n",
       "<tr><td>375316653866487564</td><td>5902309023576226688</td><td>nTransits:5+</td><td>LPV</td><td>0.06635127</td></tr>\n",
       "<tr><td>375316653866487564</td><td>5902311909815916032</td><td>nTransits:5+</td><td>LPV</td><td>0.91618407</td></tr>\n",
       "<tr><td>375316653866487564</td><td>5902316926337867776</td><td>nTransits:5+</td><td>LPV</td><td>0.9341271</td></tr>\n",
       "<tr><td>...</td><td>...</td><td>...</td><td>...</td><td>...</td></tr>\n",
       "<tr><td>375316653866487564</td><td>5972323033525513856</td><td>nTransits:5+</td><td>LPV</td><td>0.101845734</td></tr>\n",
       "<tr><td>375316653866487564</td><td>5972323106592989824</td><td>nTransits:5+</td><td>LPV</td><td>0.769503</td></tr>\n",
       "<tr><td>375316653866487564</td><td>5972323175285244672</td><td>nTransits:5+</td><td>LPV</td><td>0.77459633</td></tr>\n",
       "<tr><td>375316653866487564</td><td>5972323239666073472</td><td>nTransits:5+</td><td>LPV</td><td>0.9235636</td></tr>\n",
       "<tr><td>375316653866487564</td><td>5972323244004758272</td><td>nTransits:5+</td><td>LPV</td><td>0.09617302</td></tr>\n",
       "<tr><td>375316653866487564</td><td>5972323381470828800</td><td>nTransits:5+</td><td>LPV</td><td>0.07522135</td></tr>\n",
       "<tr><td>375316653866487564</td><td>5972323484550022528</td><td>nTransits:5+</td><td>LPV</td><td>0.4585171</td></tr>\n",
       "<tr><td>375316653866487564</td><td>5972323514544031104</td><td>nTransits:5+</td><td>LPV</td><td>0.25387236</td></tr>\n",
       "<tr><td>375316653866487564</td><td>5972323651985694080</td><td>nTransits:5+</td><td>LPV</td><td>0.8478545</td></tr>\n",
       "<tr><td>375316653866487564</td><td>5972323862506898432</td><td>nTransits:5+</td><td>LPV</td><td>0.7909434</td></tr>\n",
       "</table></div>"
      ],
      "text/plain": [
       "<Table length=2325775>\n",
       "   solution_id          source_id      ... best_class_name best_class_score\n",
       "      int64               int64        ...      str30          float32     \n",
       "------------------ ------------------- ... --------------- ----------------\n",
       "375316653866487564 5902285104890627584 ...             LPV      0.038731564\n",
       "375316653866487564 5902285315377331200 ...             LPV        0.9638877\n",
       "375316653866487564 5902291225252490240 ...             LPV       0.92284286\n",
       "375316653866487564 5902293523025573760 ...             LPV         0.978285\n",
       "375316653866487564 5902296168725541120 ...             LPV        0.9871295\n",
       "375316653866487564 5902298853114705664 ...             LPV        0.9231881\n",
       "375316653866487564 5902299540309456128 ...             LPV        0.9609122\n",
       "375316653866487564 5902309023576226688 ...             LPV       0.06635127\n",
       "375316653866487564 5902311909815916032 ...             LPV       0.91618407\n",
       "375316653866487564 5902316926337867776 ...             LPV        0.9341271\n",
       "               ...                 ... ...             ...              ...\n",
       "375316653866487564 5972323033525513856 ...             LPV      0.101845734\n",
       "375316653866487564 5972323106592989824 ...             LPV         0.769503\n",
       "375316653866487564 5972323175285244672 ...             LPV       0.77459633\n",
       "375316653866487564 5972323239666073472 ...             LPV        0.9235636\n",
       "375316653866487564 5972323244004758272 ...             LPV       0.09617302\n",
       "375316653866487564 5972323381470828800 ...             LPV       0.07522135\n",
       "375316653866487564 5972323484550022528 ...             LPV        0.4585171\n",
       "375316653866487564 5972323514544031104 ...             LPV       0.25387236\n",
       "375316653866487564 5972323651985694080 ...             LPV        0.8478545\n",
       "375316653866487564 5972323862506898432 ...             LPV        0.7909434"
      ]
     },
     "execution_count": 8,
     "metadata": {},
     "output_type": "execute_result"
    }
   ],
   "source": [
    "results"
   ]
  },
  {
   "cell_type": "code",
   "execution_count": 5,
   "id": "ccc9879b",
   "metadata": {},
   "outputs": [],
   "source": [
    "results.to_pandas().to_csv('vari_long_period_variable_class_score.csv')"
   ]
  },
  {
   "cell_type": "code",
   "execution_count": null,
   "id": "38bc4ddc",
   "metadata": {},
   "outputs": [],
   "source": []
  }
 ],
 "metadata": {
  "kernelspec": {
   "display_name": "Python 3 (ipykernel)",
   "language": "python",
   "name": "python3"
  },
  "language_info": {
   "codemirror_mode": {
    "name": "ipython",
    "version": 3
   },
   "file_extension": ".py",
   "mimetype": "text/x-python",
   "name": "python",
   "nbconvert_exporter": "python",
   "pygments_lexer": "ipython3",
   "version": "3.9.7"
  }
 },
 "nbformat": 4,
 "nbformat_minor": 5
}
