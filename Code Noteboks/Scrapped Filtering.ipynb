{
 "cells": [
  {
   "cell_type": "code",
   "execution_count": 6,
   "id": "3a214f51",
   "metadata": {},
   "outputs": [],
   "source": [
    "DATASET_PATH = 'C:\\\\Users\\\\laksh\\\\OneDrive\\\\variable_stars\\\\vari_eclipsing_binary'"
   ]
  },
  {
   "cell_type": "code",
   "execution_count": 3,
   "id": "4b21e162",
   "metadata": {},
   "outputs": [],
   "source": [
    "import os"
   ]
  },
  {
   "cell_type": "code",
   "execution_count": 8,
   "id": "c1bf691c",
   "metadata": {},
   "outputs": [],
   "source": [
    "for i in os.listdir(DATASET_PATH):\n",
    "    temp = i\n",
    "    break"
   ]
  },
  {
   "cell_type": "code",
   "execution_count": 12,
   "id": "e8033ee9",
   "metadata": {},
   "outputs": [
    {
     "data": {
      "text/plain": [
       "'10031501711071232'"
      ]
     },
     "execution_count": 12,
     "metadata": {},
     "output_type": "execute_result"
    }
   ],
   "source": [
    "temp.split()[2].split('.')[0]"
   ]
  },
  {
   "cell_type": "code",
   "execution_count": 13,
   "id": "8d1d6867",
   "metadata": {},
   "outputs": [],
   "source": [
    "import pandas as pd"
   ]
  },
  {
   "cell_type": "code",
   "execution_count": 14,
   "id": "53c0c1a9",
   "metadata": {},
   "outputs": [],
   "source": [
    "classification = pd.read_csv('Classification Data.csv')"
   ]
  },
  {
   "cell_type": "code",
   "execution_count": 15,
   "id": "95668122",
   "metadata": {},
   "outputs": [
    {
     "data": {
      "text/html": [
       "<div>\n",
       "<style scoped>\n",
       "    .dataframe tbody tr th:only-of-type {\n",
       "        vertical-align: middle;\n",
       "    }\n",
       "\n",
       "    .dataframe tbody tr th {\n",
       "        vertical-align: top;\n",
       "    }\n",
       "\n",
       "    .dataframe thead th {\n",
       "        text-align: right;\n",
       "    }\n",
       "</style>\n",
       "<table border=\"1\" class=\"dataframe\">\n",
       "  <thead>\n",
       "    <tr style=\"text-align: right;\">\n",
       "      <th></th>\n",
       "      <th>Unnamed: 0</th>\n",
       "      <th>solution_id</th>\n",
       "      <th>source_id</th>\n",
       "      <th>classifier_name</th>\n",
       "      <th>best_class_name</th>\n",
       "      <th>best_class_score</th>\n",
       "    </tr>\n",
       "  </thead>\n",
       "  <tbody>\n",
       "    <tr>\n",
       "      <th>0</th>\n",
       "      <td>0</td>\n",
       "      <td>375316653866487564</td>\n",
       "      <td>5902284490717516928</td>\n",
       "      <td>nTransits:5+</td>\n",
       "      <td>ECL</td>\n",
       "      <td>0.450999</td>\n",
       "    </tr>\n",
       "    <tr>\n",
       "      <th>1</th>\n",
       "      <td>1</td>\n",
       "      <td>375316653866487564</td>\n",
       "      <td>5902284731235703680</td>\n",
       "      <td>nTransits:5+</td>\n",
       "      <td>ECL</td>\n",
       "      <td>0.834064</td>\n",
       "    </tr>\n",
       "    <tr>\n",
       "      <th>2</th>\n",
       "      <td>2</td>\n",
       "      <td>375316653866487564</td>\n",
       "      <td>5902284967451738240</td>\n",
       "      <td>nTransits:5+</td>\n",
       "      <td>ECL</td>\n",
       "      <td>0.128291</td>\n",
       "    </tr>\n",
       "    <tr>\n",
       "      <th>3</th>\n",
       "      <td>3</td>\n",
       "      <td>375316653866487564</td>\n",
       "      <td>5902285104890627584</td>\n",
       "      <td>nTransits:5+</td>\n",
       "      <td>LPV</td>\n",
       "      <td>0.038732</td>\n",
       "    </tr>\n",
       "    <tr>\n",
       "      <th>4</th>\n",
       "      <td>4</td>\n",
       "      <td>375316653866487564</td>\n",
       "      <td>5902285207968645376</td>\n",
       "      <td>nTransits:5+</td>\n",
       "      <td>DSCT|GDOR|SXPHE</td>\n",
       "      <td>0.275059</td>\n",
       "    </tr>\n",
       "  </tbody>\n",
       "</table>\n",
       "</div>"
      ],
      "text/plain": [
       "   Unnamed: 0         solution_id            source_id classifier_name  \\\n",
       "0           0  375316653866487564  5902284490717516928    nTransits:5+   \n",
       "1           1  375316653866487564  5902284731235703680    nTransits:5+   \n",
       "2           2  375316653866487564  5902284967451738240    nTransits:5+   \n",
       "3           3  375316653866487564  5902285104890627584    nTransits:5+   \n",
       "4           4  375316653866487564  5902285207968645376    nTransits:5+   \n",
       "\n",
       "   best_class_name  best_class_score  \n",
       "0              ECL          0.450999  \n",
       "1              ECL          0.834064  \n",
       "2              ECL          0.128291  \n",
       "3              LPV          0.038732  \n",
       "4  DSCT|GDOR|SXPHE          0.275059  "
      ]
     },
     "execution_count": 15,
     "metadata": {},
     "output_type": "execute_result"
    }
   ],
   "source": [
    "classification.head()"
   ]
  },
  {
   "cell_type": "code",
   "execution_count": 17,
   "id": "cdbf1ef6",
   "metadata": {},
   "outputs": [
    {
     "data": {
      "text/plain": [
       "Unnamed: 0            int64\n",
       "solution_id           int64\n",
       "source_id             int64\n",
       "classifier_name      object\n",
       "best_class_name      object\n",
       "best_class_score    float64\n",
       "dtype: object"
      ]
     },
     "execution_count": 17,
     "metadata": {},
     "output_type": "execute_result"
    }
   ],
   "source": [
    "classification.dtypes"
   ]
  },
  {
   "cell_type": "code",
   "execution_count": 18,
   "id": "3f12ca1a",
   "metadata": {},
   "outputs": [
    {
     "data": {
      "text/plain": [
       "Unnamed: 0          656708\n",
       "solution_id         656708\n",
       "source_id           656708\n",
       "classifier_name     656708\n",
       "best_class_name     656708\n",
       "best_class_score    656708\n",
       "dtype: int64"
      ]
     },
     "execution_count": 18,
     "metadata": {},
     "output_type": "execute_result"
    }
   ],
   "source": [
    "classification[classification['best_class_name'] == 'ECL'].count() ## 2.3 M"
   ]
  },
  {
   "cell_type": "code",
   "execution_count": 19,
   "id": "42cc3c0b",
   "metadata": {},
   "outputs": [
    {
     "data": {
      "text/plain": [
       "Unnamed: 0          728062\n",
       "solution_id         728062\n",
       "source_id           728062\n",
       "classifier_name     728062\n",
       "best_class_name     728062\n",
       "best_class_score    728062\n",
       "dtype: int64"
      ]
     },
     "execution_count": 19,
     "metadata": {},
     "output_type": "execute_result"
    }
   ],
   "source": [
    "classification[classification['best_class_name'] == 'LPV'].count() ## 2M"
   ]
  },
  {
   "cell_type": "code",
   "execution_count": 21,
   "id": "fc7d3afc",
   "metadata": {},
   "outputs": [
    {
     "data": {
      "text/plain": [
       "Unnamed: 0          83335\n",
       "solution_id         83335\n",
       "source_id           83335\n",
       "classifier_name     83335\n",
       "best_class_name     83335\n",
       "best_class_score    83335\n",
       "dtype: int64"
      ]
     },
     "execution_count": 21,
     "metadata": {},
     "output_type": "execute_result"
    }
   ],
   "source": [
    "classification[classification['best_class_name'] == 'RR'].count() ## 0.2M"
   ]
  },
  {
   "cell_type": "code",
   "execution_count": 20,
   "id": "f07ad62a",
   "metadata": {},
   "outputs": [
    {
     "data": {
      "text/plain": [
       "Unnamed: 0          3095\n",
       "solution_id         3095\n",
       "source_id           3095\n",
       "classifier_name     3095\n",
       "best_class_name     3095\n",
       "best_class_score    3095\n",
       "dtype: int64"
      ]
     },
     "execution_count": 20,
     "metadata": {},
     "output_type": "execute_result"
    }
   ],
   "source": [
    "classification[classification['best_class_name'] == 'CEP'].count() ## 15k"
   ]
  },
  {
   "cell_type": "code",
   "execution_count": null,
   "id": "b23cef00",
   "metadata": {},
   "outputs": [],
   "source": []
  }
 ],
 "metadata": {
  "kernelspec": {
   "display_name": "Python 3 (ipykernel)",
   "language": "python",
   "name": "python3"
  },
  "language_info": {
   "codemirror_mode": {
    "name": "ipython",
    "version": 3
   },
   "file_extension": ".py",
   "mimetype": "text/x-python",
   "name": "python",
   "nbconvert_exporter": "python",
   "pygments_lexer": "ipython3",
   "version": "3.9.7"
  }
 },
 "nbformat": 4,
 "nbformat_minor": 5
}
