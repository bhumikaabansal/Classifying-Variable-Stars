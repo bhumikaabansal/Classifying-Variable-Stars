{
 "cells": [
  {
   "cell_type": "code",
   "execution_count": 3,
   "id": "3c6c0e26-e4b3-4557-ad1e-620f7e91465b",
   "metadata": {},
   "outputs": [],
   "source": [
    "import pandas as pd\n",
    "import numpy as np\n",
    "import os\n",
    "from sklearn.preprocessing import MinMaxScaler, StandardScaler"
   ]
  },
  {
   "cell_type": "code",
   "execution_count": 2,
   "id": "4df2513c-8bfd-4e36-af16-f89cb83dd0d7",
   "metadata": {},
   "outputs": [],
   "source": [
    "df_lpv = pd.read_csv(r'Final Dataset/final_vari_long_period_variable.csv')\n",
    "df_cep = pd.read_csv(r'Final Dataset/final_vari_cepheid.csv')\n",
    "df_ecl = pd.read_csv(r'Final Dataset/final_vari_eclipsing_binary.csv')\n",
    "df_rr = pd.read_csv(r'Final Dataset/final_vari_rr_lyrae.csv')"
   ]
  },
  {
   "cell_type": "code",
   "execution_count": 4,
   "id": "8c7322df-0107-4d84-990c-210fa50749a8",
   "metadata": {},
   "outputs": [],
   "source": [
    "def convert_to_list(string):\n",
    "    return [float(i) if i != '' else 0 for i in string.split(', ')]"
   ]
  },
  {
   "cell_type": "code",
   "execution_count": 5,
   "id": "cd375fbf-4a21-4395-870d-3cf67a735145",
   "metadata": {},
   "outputs": [],
   "source": [
    "def process_dataset(df):\n",
    "    columns = ['time', 'mag', 'flux']\n",
    "    for i in columns:\n",
    "        df[i] = df[i].apply(lambda x: x[1:-1])\n",
    "        df = df[~df[i].isnull()]\n",
    "        df[i] = df[i].apply(convert_to_list)\n",
    "    return df"
   ]
  },
  {
   "cell_type": "code",
   "execution_count": null,
   "id": "2de5bf5f-6a40-4cff-a3e2-721957af7c2c",
   "metadata": {},
   "outputs": [],
   "source": [
    "df_lpv = process_dataset(df_lpv)\n",
    "df_cep = process_dataset(df_cep)\n",
    "df_ecl = process_dataset(df_ecl)\n",
    "df_rr = process_dataset(df_rr)"
   ]
  },
  {
   "cell_type": "code",
   "execution_count": null,
   "id": "b0d56ecf-e10f-46a1-bc6a-27d2baf9b26c",
   "metadata": {},
   "outputs": [],
   "source": [
    "final_df = pd.concat([df_cep, df_lpv], axis = 0)\n",
    "final_df = pd.concat([final_df, df_ecl], axis = 0)\n",
    "final_df = pd.concat([final_df, df_rr], axis = 0)"
   ]
  },
  {
   "cell_type": "code",
   "execution_count": null,
   "id": "7ecb196e-db5e-4657-98e3-2c2b7e7f0b2a",
   "metadata": {},
   "outputs": [
    {
     "data": {
      "text/plain": [
       "945063"
      ]
     },
     "execution_count": 8,
     "metadata": {},
     "output_type": "execute_result"
    }
   ],
   "source": [
    "len(df_cep) + len(df_lpv) + len(df_ecl) + len(df_rr)"
   ]
  },
  {
   "cell_type": "code",
   "execution_count": null,
   "id": "2323f1ec-b5b7-4422-b7c7-f11f673a1ce9",
   "metadata": {},
   "outputs": [
    {
     "data": {
      "text/plain": [
       "945063"
      ]
     },
     "execution_count": 9,
     "metadata": {},
     "output_type": "execute_result"
    }
   ],
   "source": [
    "len(final_df)"
   ]
  },
  {
   "cell_type": "code",
   "execution_count": 10,
   "id": "fd280b4e-6128-420c-a455-f8b6e14153e9",
   "metadata": {},
   "outputs": [],
   "source": [
    "final_df_g = final_df[final_df['band'] == 'G']\n",
    "final_df_rp = final_df[final_df['band'] == 'RP']\n",
    "final_df_bp = final_df[final_df['band'] == 'BP']"
   ]
  },
  {
   "cell_type": "code",
   "execution_count": 11,
   "id": "895139f6-0703-49f5-8346-ca3efff652d6",
   "metadata": {
    "collapsed": true,
    "jupyter": {
     "outputs_hidden": true
    },
    "tags": []
   },
   "outputs": [
    {
     "ename": "NameError",
     "evalue": "name 'final_dfbpg' is not defined",
     "output_type": "error",
     "traceback": [
      "\u001b[1;31m---------------------------------------------------------------------------\u001b[0m",
      "\u001b[1;31mNameError\u001b[0m                                 Traceback (most recent call last)",
      "Input \u001b[1;32mIn [11]\u001b[0m, in \u001b[0;36m<cell line: 3>\u001b[1;34m()\u001b[0m\n\u001b[0;32m      1\u001b[0m final_df_g\u001b[38;5;241m.\u001b[39mto_csv(\u001b[38;5;124m'\u001b[39m\u001b[38;5;124mfinal_df_g_complete.csv\u001b[39m\u001b[38;5;124m'\u001b[39m)\n\u001b[0;32m      2\u001b[0m final_df_rp\u001b[38;5;241m.\u001b[39mto_csv(\u001b[38;5;124m'\u001b[39m\u001b[38;5;124mfinal_df_rp_complete.csv\u001b[39m\u001b[38;5;124m'\u001b[39m)\n\u001b[1;32m----> 3\u001b[0m \u001b[43mfinal_dfbpg\u001b[49m\u001b[38;5;241m.\u001b[39mto_csv(\u001b[38;5;124m'\u001b[39m\u001b[38;5;124mfinal_df_bp_complete.csv\u001b[39m\u001b[38;5;124m'\u001b[39m)\n",
      "\u001b[1;31mNameError\u001b[0m: name 'final_dfbpg' is not defined"
     ]
    }
   ],
   "source": [
    "final_df_g.to_csv('final_df_g_complete.csv')\n",
    "final_df_rp.to_csv('final_df_rp_complete.csv')\n",
    "final_df_bp.to_csv('final_df_bp_complete.csv')"
   ]
  },
  {
   "cell_type": "code",
   "execution_count": null,
   "id": "ae95f12f-0b94-47bc-ac77-6a84b3c93c23",
   "metadata": {},
   "outputs": [],
   "source": []
  }
 ],
 "metadata": {
  "kernelspec": {
   "display_name": "Python 3 (ipykernel)",
   "language": "python",
   "name": "python3"
  },
  "language_info": {
   "codemirror_mode": {
    "name": "ipython",
    "version": 3
   },
   "file_extension": ".py",
   "mimetype": "text/x-python",
   "name": "python",
   "nbconvert_exporter": "python",
   "pygments_lexer": "ipython3",
   "version": "3.9.7"
  }
 },
 "nbformat": 4,
 "nbformat_minor": 5
}
